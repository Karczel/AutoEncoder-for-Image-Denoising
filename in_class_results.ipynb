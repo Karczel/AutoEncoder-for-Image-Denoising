{
 "cells": [
  {
   "cell_type": "markdown",
   "metadata": {},
   "source": [
    "1) The simplest Autoencoder\n",
    "2) The Deep Autoencoder \n",
    "3) The CNN AutoEncoder\n",
    "*Compare, discuss and summary the results from three autoencoder models with noisy input images"
   ]
  },
  {
   "cell_type": "code",
   "execution_count": null,
   "metadata": {
    "vscode": {
     "languageId": "plaintext"
    }
   },
   "outputs": [],
   "source": []
  }
 ],
 "metadata": {
  "language_info": {
   "name": "python"
  }
 },
 "nbformat": 4,
 "nbformat_minor": 2
}
