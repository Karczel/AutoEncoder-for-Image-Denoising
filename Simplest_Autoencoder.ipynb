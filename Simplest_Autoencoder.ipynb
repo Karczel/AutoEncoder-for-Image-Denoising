{
 "cells": [
  {
   "cell_type": "markdown",
   "metadata": {},
   "source": [
    "## Simplest Autoencoder"
   ]
  },
  {
   "cell_type": "code",
   "execution_count": 1,
   "metadata": {},
   "outputs": [],
   "source": [
    "import keras\n",
    "from keras import layers\n",
    "\n",
    "# This is the size of our encoded representations\n",
    "encoding_dim = 32  # 32 floats -> compression of factor 24.5, assuming the input is 784 floats\n",
    "\n",
    "# This is our input image\n",
    "input_img = keras.Input(shape=(784,))\n",
    "# \"encoded\" is the encoded representation of the input\n",
    "encoded = layers.Dense(encoding_dim, activation='relu')(input_img)\n",
    "# \"decoded\" is the lossy reconstruction of the input\n",
    "decoded = layers.Dense(784, activation='sigmoid')(encoded)\n",
    "\n",
    "# This model maps an input to its reconstruction\n",
    "autoencoder = keras.Model(input_img, decoded)"
   ]
  },
  {
   "cell_type": "code",
   "execution_count": 2,
   "metadata": {},
   "outputs": [],
   "source": [
    "# This model maps an input to its encoded representation\n",
    "encoder = keras.Model(input_img, encoded)"
   ]
  },
  {
   "cell_type": "code",
   "execution_count": 3,
   "metadata": {},
   "outputs": [
    {
     "data": {
      "image/png": "[encoded data removed]",
      "text/plain": [
       "<IPython.core.display.Image object>"
      ]
     },
     "execution_count": 3,
     "metadata": {},
     "output_type": "execute_result"
    }
   ],
   "source": [
    "# plot_model autoencoder\n",
    "\n",
    "from keras.utils import plot_model\n",
    "\n",
    "plot_model(autoencoder, to_file='autoencoder.png',dpi=80, show_shapes=True)\n",
    "plot_model(encoder, to_file='encoder.png',dpi=80, show_shapes=True)"
   ]
  },
  {
   "cell_type": "code",
   "execution_count": 4,
   "metadata": {},
   "outputs": [],
   "source": [
    "# This is our encoded (32-dimensional) input\n",
    "encoded_input = keras.Input(shape=(encoding_dim,))\n",
    "# Retrieve the last layer of the autoencoder model\n",
    "decoder_layer = autoencoder.layers[-1]\n",
    "# Create the decoder model\n",
    "decoder = keras.Model(encoded_input, decoder_layer(encoded_input))"
   ]
  },
  {
   "cell_type": "code",
   "execution_count": 5,
   "metadata": {},
   "outputs": [],
   "source": [
    "autoencoder.compile(optimizer='adam', loss='binary_crossentropy')\n"
   ]
  },
  {
   "cell_type": "code",
   "execution_count": 6,
   "metadata": {},
   "outputs": [],
   "source": [
    "from keras.datasets import mnist\n",
    "import numpy as np\n",
    "(x_train, _), (x_test, _) = mnist.load_data()"
   ]
  },
  {
   "cell_type": "code",
   "execution_count": 7,
   "metadata": {},
   "outputs": [
    {
     "name": "stdout",
     "output_type": "stream",
     "text": [
      "(60000, 784)\n",
      "(10000, 784)\n"
     ]
    }
   ],
   "source": [
    "x_train = x_train.astype('float32') / 255.\n",
    "x_test = x_test.astype('float32') / 255.\n",
    "x_train = x_train.reshape((len(x_train), np.prod(x_train.shape[1:])))\n",
    "x_test = x_test.reshape((len(x_test), np.prod(x_test.shape[1:])))\n",
    "print(x_train.shape)\n",
    "print(x_test.shape)"
   ]
  },
  {
   "cell_type": "code",
   "execution_count": 8,
   "metadata": {},
   "outputs": [
    {
     "name": "stdout",
     "output_type": "stream",
     "text": [
      "Epoch 1/50\n",
      "219/235 [==========================>...] - ETA: 0s - loss: 0.2809\n",
      "Epoch 1: val_loss improved from inf to 0.18771, saving model to best_autoencoder\n",
      "INFO:tensorflow:Assets written to: best_autoencoder\\assets\n"
     ]
    },
    {
     "name": "stderr",
     "output_type": "stream",
     "text": [
      "INFO:tensorflow:Assets written to: best_autoencoder\\assets\n"
     ]
    },
    {
     "name": "stdout",
     "output_type": "stream",
     "text": [
      "235/235 [==============================] - 1s 4ms/step - loss: 0.2751 - val_loss: 0.1877\n",
      "Epoch 2/50\n",
      "218/235 [==========================>...] - ETA: 0s - loss: 0.1711\n",
      "Epoch 2: val_loss improved from 0.18771 to 0.15343, saving model to best_autoencoder\n",
      "INFO:tensorflow:Assets written to: best_autoencoder\\assets\n"
     ]
    },
    {
     "name": "stderr",
     "output_type": "stream",
     "text": [
      "INFO:tensorflow:Assets written to: best_autoencoder\\assets\n"
     ]
    },
    {
     "name": "stdout",
     "output_type": "stream",
     "text": [
      "235/235 [==============================] - 1s 3ms/step - loss: 0.1700 - val_loss: 0.1534\n",
      "Epoch 3/50\n",
      "232/235 [============================>.] - ETA: 0s - loss: 0.1445\n",
      "Epoch 3: val_loss improved from 0.15343 to 0.13379, saving model to best_autoencoder\n",
      "INFO:tensorflow:Assets written to: best_autoencoder\\assets\n"
     ]
    },
    {
     "name": "stderr",
     "output_type": "stream",
     "text": [
      "INFO:tensorflow:Assets written to: best_autoencoder\\assets\n"
     ]
    },
    {
     "name": "stdout",
     "output_type": "stream",
     "text": [
      "235/235 [==============================] - 1s 3ms/step - loss: 0.1444 - val_loss: 0.1338\n",
      "Epoch 4/50\n",
      "222/235 [===========================>..] - ETA: 0s - loss: 0.1289\n",
      "Epoch 4: val_loss improved from 0.13379 to 0.12134, saving model to best_autoencoder\n",
      "INFO:tensorflow:Assets written to: best_autoencoder\\assets\n"
     ]
    },
    {
     "name": "stderr",
     "output_type": "stream",
     "text": [
      "INFO:tensorflow:Assets written to: best_autoencoder\\assets\n"
     ]
    },
    {
     "name": "stdout",
     "output_type": "stream",
     "text": [
      "235/235 [==============================] - 1s 3ms/step - loss: 0.1285 - val_loss: 0.1213\n",
      "Epoch 5/50\n",
      "234/235 [============================>.] - ETA: 0s - loss: 0.1185\n",
      "Epoch 5: val_loss improved from 0.12134 to 0.11332, saving model to best_autoencoder\n",
      "INFO:tensorflow:Assets written to: best_autoencoder\\assets\n"
     ]
    },
    {
     "name": "stderr",
     "output_type": "stream",
     "text": [
      "INFO:tensorflow:Assets written to: best_autoencoder\\assets\n"
     ]
    },
    {
     "name": "stdout",
     "output_type": "stream",
     "text": [
      "235/235 [==============================] - 1s 3ms/step - loss: 0.1185 - val_loss: 0.1133\n",
      "Epoch 6/50\n",
      "220/235 [===========================>..] - ETA: 0s - loss: 0.1118\n",
      "Epoch 6: val_loss improved from 0.11332 to 0.10743, saving model to best_autoencoder\n",
      "INFO:tensorflow:Assets written to: best_autoencoder\\assets\n"
     ]
    },
    {
     "name": "stderr",
     "output_type": "stream",
     "text": [
      "INFO:tensorflow:Assets written to: best_autoencoder\\assets\n"
     ]
    },
    {
     "name": "stdout",
     "output_type": "stream",
     "text": [
      "235/235 [==============================] - 1s 3ms/step - loss: 0.1116 - val_loss: 0.1074\n",
      "Epoch 7/50\n",
      "215/235 [==========================>...] - ETA: 0s - loss: 0.1065\n",
      "Epoch 7: val_loss improved from 0.10743 to 0.10293, saving model to best_autoencoder\n",
      "INFO:tensorflow:Assets written to: best_autoencoder\\assets\n"
     ]
    },
    {
     "name": "stderr",
     "output_type": "stream",
     "text": [
      "INFO:tensorflow:Assets written to: best_autoencoder\\assets\n"
     ]
    },
    {
     "name": "stdout",
     "output_type": "stream",
     "text": [
      "235/235 [==============================] - 1s 3ms/step - loss: 0.1064 - val_loss: 0.1029\n",
      "Epoch 8/50\n",
      "230/235 [============================>.] - ETA: 0s - loss: 0.1024\n",
      "Epoch 8: val_loss improved from 0.10293 to 0.09943, saving model to best_autoencoder\n",
      "INFO:tensorflow:Assets written to: best_autoencoder\\assets\n"
     ]
    },
    {
     "name": "stderr",
     "output_type": "stream",
     "text": [
      "INFO:tensorflow:Assets written to: best_autoencoder\\assets\n"
     ]
    },
    {
     "name": "stdout",
     "output_type": "stream",
     "text": [
      "235/235 [==============================] - 1s 3ms/step - loss: 0.1023 - val_loss: 0.0994\n",
      "Epoch 9/50\n",
      "235/235 [==============================] - ETA: 0s - loss: 0.0994\n",
      "Epoch 9: val_loss improved from 0.09943 to 0.09694, saving model to best_autoencoder\n",
      "INFO:tensorflow:Assets written to: best_autoencoder\\assets\n"
     ]
    },
    {
     "name": "stderr",
     "output_type": "stream",
     "text": [
      "INFO:tensorflow:Assets written to: best_autoencoder\\assets\n"
     ]
    },
    {
     "name": "stdout",
     "output_type": "stream",
     "text": [
      "235/235 [==============================] - 1s 3ms/step - loss: 0.0994 - val_loss: 0.0969\n",
      "Epoch 10/50\n",
      "233/235 [============================>.] - ETA: 0s - loss: 0.0974\n",
      "Epoch 10: val_loss improved from 0.09694 to 0.09529, saving model to best_autoencoder\n",
      "INFO:tensorflow:Assets written to: best_autoencoder\\assets\n"
     ]
    },
    {
     "name": "stderr",
     "output_type": "stream",
     "text": [
      "INFO:tensorflow:Assets written to: best_autoencoder\\assets\n"
     ]
    },
    {
     "name": "stdout",
     "output_type": "stream",
     "text": [
      "235/235 [==============================] - 1s 3ms/step - loss: 0.0974 - val_loss: 0.0953\n",
      "Epoch 11/50\n",
      "212/235 [==========================>...] - ETA: 0s - loss: 0.0960\n",
      "Epoch 11: val_loss improved from 0.09529 to 0.09432, saving model to best_autoencoder\n",
      "INFO:tensorflow:Assets written to: best_autoencoder\\assets\n"
     ]
    },
    {
     "name": "stderr",
     "output_type": "stream",
     "text": [
      "INFO:tensorflow:Assets written to: best_autoencoder\\assets\n"
     ]
    },
    {
     "name": "stdout",
     "output_type": "stream",
     "text": [
      "235/235 [==============================] - 1s 3ms/step - loss: 0.0961 - val_loss: 0.0943\n",
      "Epoch 12/50\n",
      "233/235 [============================>.] - ETA: 0s - loss: 0.0952\n",
      "Epoch 12: val_loss improved from 0.09432 to 0.09367, saving model to best_autoencoder\n",
      "INFO:tensorflow:Assets written to: best_autoencoder\\assets\n"
     ]
    },
    {
     "name": "stderr",
     "output_type": "stream",
     "text": [
      "INFO:tensorflow:Assets written to: best_autoencoder\\assets\n"
     ]
    },
    {
     "name": "stdout",
     "output_type": "stream",
     "text": [
      "235/235 [==============================] - 1s 3ms/step - loss: 0.0952 - val_loss: 0.0937\n",
      "Epoch 13/50\n",
      "212/235 [==========================>...] - ETA: 0s - loss: 0.0947\n",
      "Epoch 13: val_loss improved from 0.09367 to 0.09321, saving model to best_autoencoder\n",
      "INFO:tensorflow:Assets written to: best_autoencoder\\assets\n"
     ]
    },
    {
     "name": "stderr",
     "output_type": "stream",
     "text": [
      "INFO:tensorflow:Assets written to: best_autoencoder\\assets\n"
     ]
    },
    {
     "name": "stdout",
     "output_type": "stream",
     "text": [
      "235/235 [==============================] - 1s 3ms/step - loss: 0.0947 - val_loss: 0.0932\n",
      "Epoch 14/50\n",
      "221/235 [===========================>..] - ETA: 0s - loss: 0.0943\n",
      "Epoch 14: val_loss improved from 0.09321 to 0.09292, saving model to best_autoencoder\n",
      "INFO:tensorflow:Assets written to: best_autoencoder\\assets\n"
     ]
    },
    {
     "name": "stderr",
     "output_type": "stream",
     "text": [
      "INFO:tensorflow:Assets written to: best_autoencoder\\assets\n"
     ]
    },
    {
     "name": "stdout",
     "output_type": "stream",
     "text": [
      "235/235 [==============================] - 1s 3ms/step - loss: 0.0943 - val_loss: 0.0929\n",
      "Epoch 15/50\n",
      "214/235 [==========================>...] - ETA: 0s - loss: 0.0941\n",
      "Epoch 15: val_loss improved from 0.09292 to 0.09262, saving model to best_autoencoder\n",
      "INFO:tensorflow:Assets written to: best_autoencoder\\assets\n"
     ]
    },
    {
     "name": "stderr",
     "output_type": "stream",
     "text": [
      "INFO:tensorflow:Assets written to: best_autoencoder\\assets\n"
     ]
    },
    {
     "name": "stdout",
     "output_type": "stream",
     "text": [
      "235/235 [==============================] - 1s 3ms/step - loss: 0.0940 - val_loss: 0.0926\n",
      "Epoch 16/50\n",
      "229/235 [============================>.] - ETA: 0s - loss: 0.0939\n",
      "Epoch 16: val_loss improved from 0.09262 to 0.09246, saving model to best_autoencoder\n",
      "INFO:tensorflow:Assets written to: best_autoencoder\\assets\n"
     ]
    },
    {
     "name": "stderr",
     "output_type": "stream",
     "text": [
      "INFO:tensorflow:Assets written to: best_autoencoder\\assets\n"
     ]
    },
    {
     "name": "stdout",
     "output_type": "stream",
     "text": [
      "235/235 [==============================] - 1s 3ms/step - loss: 0.0938 - val_loss: 0.0925\n",
      "Epoch 17/50\n",
      "217/235 [==========================>...] - ETA: 0s - loss: 0.0937\n",
      "Epoch 17: val_loss improved from 0.09246 to 0.09243, saving model to best_autoencoder\n",
      "INFO:tensorflow:Assets written to: best_autoencoder\\assets\n"
     ]
    },
    {
     "name": "stderr",
     "output_type": "stream",
     "text": [
      "INFO:tensorflow:Assets written to: best_autoencoder\\assets\n"
     ]
    },
    {
     "name": "stdout",
     "output_type": "stream",
     "text": [
      "235/235 [==============================] - 1s 3ms/step - loss: 0.0937 - val_loss: 0.0924\n",
      "Epoch 18/50\n",
      "229/235 [============================>.] - ETA: 0s - loss: 0.0936\n",
      "Epoch 18: val_loss improved from 0.09243 to 0.09234, saving model to best_autoencoder\n",
      "INFO:tensorflow:Assets written to: best_autoencoder\\assets\n"
     ]
    },
    {
     "name": "stderr",
     "output_type": "stream",
     "text": [
      "INFO:tensorflow:Assets written to: best_autoencoder\\assets\n"
     ]
    },
    {
     "name": "stdout",
     "output_type": "stream",
     "text": [
      "235/235 [==============================] - 1s 3ms/step - loss: 0.0936 - val_loss: 0.0923\n",
      "Epoch 19/50\n",
      "220/235 [===========================>..] - ETA: 0s - loss: 0.0934\n",
      "Epoch 19: val_loss improved from 0.09234 to 0.09228, saving model to best_autoencoder\n",
      "INFO:tensorflow:Assets written to: best_autoencoder\\assets\n"
     ]
    },
    {
     "name": "stderr",
     "output_type": "stream",
     "text": [
      "INFO:tensorflow:Assets written to: best_autoencoder\\assets\n"
     ]
    },
    {
     "name": "stdout",
     "output_type": "stream",
     "text": [
      "235/235 [==============================] - 1s 3ms/step - loss: 0.0934 - val_loss: 0.0923\n",
      "Epoch 20/50\n",
      "212/235 [==========================>...] - ETA: 0s - loss: 0.0934\n",
      "Epoch 20: val_loss improved from 0.09228 to 0.09211, saving model to best_autoencoder\n",
      "INFO:tensorflow:Assets written to: best_autoencoder\\assets\n"
     ]
    },
    {
     "name": "stderr",
     "output_type": "stream",
     "text": [
      "INFO:tensorflow:Assets written to: best_autoencoder\\assets\n"
     ]
    },
    {
     "name": "stdout",
     "output_type": "stream",
     "text": [
      "235/235 [==============================] - 1s 3ms/step - loss: 0.0934 - val_loss: 0.0921\n",
      "Epoch 21/50\n",
      "228/235 [============================>.] - ETA: 0s - loss: 0.0933\n",
      "Epoch 21: val_loss did not improve from 0.09211\n",
      "235/235 [==============================] - 1s 3ms/step - loss: 0.0933 - val_loss: 0.0921\n",
      "Epoch 22/50\n",
      "232/235 [============================>.] - ETA: 0s - loss: 0.0932\n",
      "Epoch 22: val_loss improved from 0.09211 to 0.09202, saving model to best_autoencoder\n",
      "INFO:tensorflow:Assets written to: best_autoencoder\\assets\n"
     ]
    },
    {
     "name": "stderr",
     "output_type": "stream",
     "text": [
      "INFO:tensorflow:Assets written to: best_autoencoder\\assets\n"
     ]
    },
    {
     "name": "stdout",
     "output_type": "stream",
     "text": [
      "235/235 [==============================] - 1s 4ms/step - loss: 0.0932 - val_loss: 0.0920\n",
      "Epoch 23/50\n",
      "216/235 [==========================>...] - ETA: 0s - loss: 0.0932\n",
      "Epoch 23: val_loss improved from 0.09202 to 0.09196, saving model to best_autoencoder\n",
      "INFO:tensorflow:Assets written to: best_autoencoder\\assets\n"
     ]
    },
    {
     "name": "stderr",
     "output_type": "stream",
     "text": [
      "INFO:tensorflow:Assets written to: best_autoencoder\\assets\n"
     ]
    },
    {
     "name": "stdout",
     "output_type": "stream",
     "text": [
      "235/235 [==============================] - 1s 3ms/step - loss: 0.0932 - val_loss: 0.0920\n",
      "Epoch 24/50\n",
      "222/235 [===========================>..] - ETA: 0s - loss: 0.0931\n",
      "Epoch 24: val_loss improved from 0.09196 to 0.09185, saving model to best_autoencoder\n",
      "INFO:tensorflow:Assets written to: best_autoencoder\\assets\n"
     ]
    },
    {
     "name": "stderr",
     "output_type": "stream",
     "text": [
      "INFO:tensorflow:Assets written to: best_autoencoder\\assets\n"
     ]
    },
    {
     "name": "stdout",
     "output_type": "stream",
     "text": [
      "235/235 [==============================] - 1s 3ms/step - loss: 0.0931 - val_loss: 0.0919\n",
      "Epoch 25/50\n",
      "219/235 [==========================>...] - ETA: 0s - loss: 0.0931\n",
      "Epoch 25: val_loss did not improve from 0.09185\n",
      "235/235 [==============================] - 1s 3ms/step - loss: 0.0931 - val_loss: 0.0919\n",
      "Epoch 26/50\n",
      "224/235 [===========================>..] - ETA: 0s - loss: 0.0930\n",
      "Epoch 26: val_loss did not improve from 0.09185\n",
      "235/235 [==============================] - 1s 3ms/step - loss: 0.0930 - val_loss: 0.0920\n",
      "Epoch 27/50\n",
      "219/235 [==========================>...] - ETA: 0s - loss: 0.0930\n",
      "Epoch 27: val_loss improved from 0.09185 to 0.09182, saving model to best_autoencoder\n",
      "INFO:tensorflow:Assets written to: best_autoencoder\\assets\n"
     ]
    },
    {
     "name": "stderr",
     "output_type": "stream",
     "text": [
      "INFO:tensorflow:Assets written to: best_autoencoder\\assets\n"
     ]
    },
    {
     "name": "stdout",
     "output_type": "stream",
     "text": [
      "235/235 [==============================] - 1s 3ms/step - loss: 0.0930 - val_loss: 0.0918\n",
      "Epoch 28/50\n",
      "223/235 [===========================>..] - ETA: 0s - loss: 0.0930\n",
      "Epoch 28: val_loss did not improve from 0.09182\n",
      "235/235 [==============================] - 1s 3ms/step - loss: 0.0930 - val_loss: 0.0919\n",
      "Epoch 29/50\n",
      "219/235 [==========================>...] - ETA: 0s - loss: 0.0930\n",
      "Epoch 29: val_loss improved from 0.09182 to 0.09181, saving model to best_autoencoder\n",
      "INFO:tensorflow:Assets written to: best_autoencoder\\assets\n"
     ]
    },
    {
     "name": "stderr",
     "output_type": "stream",
     "text": [
      "INFO:tensorflow:Assets written to: best_autoencoder\\assets\n"
     ]
    },
    {
     "name": "stdout",
     "output_type": "stream",
     "text": [
      "235/235 [==============================] - 1s 3ms/step - loss: 0.0929 - val_loss: 0.0918\n",
      "Epoch 30/50\n",
      "220/235 [===========================>..] - ETA: 0s - loss: 0.0929\n",
      "Epoch 30: val_loss improved from 0.09181 to 0.09176, saving model to best_autoencoder\n",
      "INFO:tensorflow:Assets written to: best_autoencoder\\assets\n"
     ]
    },
    {
     "name": "stderr",
     "output_type": "stream",
     "text": [
      "INFO:tensorflow:Assets written to: best_autoencoder\\assets\n"
     ]
    },
    {
     "name": "stdout",
     "output_type": "stream",
     "text": [
      "235/235 [==============================] - 1s 3ms/step - loss: 0.0929 - val_loss: 0.0918\n",
      "Epoch 31/50\n",
      "223/235 [===========================>..] - ETA: 0s - loss: 0.0929\n",
      "Epoch 31: val_loss improved from 0.09176 to 0.09174, saving model to best_autoencoder\n",
      "INFO:tensorflow:Assets written to: best_autoencoder\\assets\n"
     ]
    },
    {
     "name": "stderr",
     "output_type": "stream",
     "text": [
      "INFO:tensorflow:Assets written to: best_autoencoder\\assets\n"
     ]
    },
    {
     "name": "stdout",
     "output_type": "stream",
     "text": [
      "235/235 [==============================] - 1s 3ms/step - loss: 0.0929 - val_loss: 0.0917\n",
      "Epoch 32/50\n",
      "229/235 [============================>.] - ETA: 0s - loss: 0.0929\n",
      "Epoch 32: val_loss improved from 0.09174 to 0.09168, saving model to best_autoencoder\n",
      "INFO:tensorflow:Assets written to: best_autoencoder\\assets\n"
     ]
    },
    {
     "name": "stderr",
     "output_type": "stream",
     "text": [
      "INFO:tensorflow:Assets written to: best_autoencoder\\assets\n"
     ]
    },
    {
     "name": "stdout",
     "output_type": "stream",
     "text": [
      "235/235 [==============================] - 1s 3ms/step - loss: 0.0929 - val_loss: 0.0917\n",
      "Epoch 33/50\n",
      "228/235 [============================>.] - ETA: 0s - loss: 0.0928\n",
      "Epoch 33: val_loss did not improve from 0.09168\n",
      "235/235 [==============================] - 1s 3ms/step - loss: 0.0928 - val_loss: 0.0917\n",
      "Epoch 34/50\n",
      "233/235 [============================>.] - ETA: 0s - loss: 0.0928\n",
      "Epoch 34: val_loss did not improve from 0.09168\n",
      "235/235 [==============================] - 1s 3ms/step - loss: 0.0928 - val_loss: 0.0918\n",
      "Epoch 35/50\n",
      "227/235 [===========================>..] - ETA: 0s - loss: 0.0928\n",
      "Epoch 35: val_loss improved from 0.09168 to 0.09167, saving model to best_autoencoder\n",
      "INFO:tensorflow:Assets written to: best_autoencoder\\assets\n"
     ]
    },
    {
     "name": "stderr",
     "output_type": "stream",
     "text": [
      "INFO:tensorflow:Assets written to: best_autoencoder\\assets\n"
     ]
    },
    {
     "name": "stdout",
     "output_type": "stream",
     "text": [
      "235/235 [==============================] - 1s 3ms/step - loss: 0.0928 - val_loss: 0.0917\n",
      "Epoch 36/50\n",
      "217/235 [==========================>...] - ETA: 0s - loss: 0.0928\n",
      "Epoch 36: val_loss did not improve from 0.09167\n",
      "235/235 [==============================] - 1s 3ms/step - loss: 0.0928 - val_loss: 0.0917\n",
      "Epoch 37/50\n",
      "230/235 [============================>.] - ETA: 0s - loss: 0.0928\n",
      "Epoch 37: val_loss did not improve from 0.09167\n",
      "235/235 [==============================] - 1s 3ms/step - loss: 0.0928 - val_loss: 0.0917\n",
      "Epoch 38/50\n",
      "229/235 [============================>.] - ETA: 0s - loss: 0.0927\n",
      "Epoch 38: val_loss improved from 0.09167 to 0.09163, saving model to best_autoencoder\n",
      "INFO:tensorflow:Assets written to: best_autoencoder\\assets\n"
     ]
    },
    {
     "name": "stderr",
     "output_type": "stream",
     "text": [
      "INFO:tensorflow:Assets written to: best_autoencoder\\assets\n"
     ]
    },
    {
     "name": "stdout",
     "output_type": "stream",
     "text": [
      "235/235 [==============================] - 1s 3ms/step - loss: 0.0927 - val_loss: 0.0916\n",
      "Epoch 39/50\n",
      "229/235 [============================>.] - ETA: 0s - loss: 0.0927\n",
      "Epoch 39: val_loss did not improve from 0.09163\n",
      "235/235 [==============================] - 1s 3ms/step - loss: 0.0927 - val_loss: 0.0916\n",
      "Epoch 40/50\n",
      "215/235 [==========================>...] - ETA: 0s - loss: 0.0927\n",
      "Epoch 40: val_loss improved from 0.09163 to 0.09162, saving model to best_autoencoder\n",
      "INFO:tensorflow:Assets written to: best_autoencoder\\assets\n"
     ]
    },
    {
     "name": "stderr",
     "output_type": "stream",
     "text": [
      "INFO:tensorflow:Assets written to: best_autoencoder\\assets\n"
     ]
    },
    {
     "name": "stdout",
     "output_type": "stream",
     "text": [
      "235/235 [==============================] - 1s 3ms/step - loss: 0.0927 - val_loss: 0.0916\n",
      "Epoch 41/50\n",
      "232/235 [============================>.] - ETA: 0s - loss: 0.0927\n",
      "Epoch 41: val_loss improved from 0.09162 to 0.09160, saving model to best_autoencoder\n",
      "INFO:tensorflow:Assets written to: best_autoencoder\\assets\n"
     ]
    },
    {
     "name": "stderr",
     "output_type": "stream",
     "text": [
      "INFO:tensorflow:Assets written to: best_autoencoder\\assets\n"
     ]
    },
    {
     "name": "stdout",
     "output_type": "stream",
     "text": [
      "235/235 [==============================] - 1s 3ms/step - loss: 0.0927 - val_loss: 0.0916\n",
      "Epoch 42/50\n",
      "215/235 [==========================>...] - ETA: 0s - loss: 0.0927\n",
      "Epoch 42: val_loss improved from 0.09160 to 0.09155, saving model to best_autoencoder\n",
      "INFO:tensorflow:Assets written to: best_autoencoder\\assets\n"
     ]
    },
    {
     "name": "stderr",
     "output_type": "stream",
     "text": [
      "INFO:tensorflow:Assets written to: best_autoencoder\\assets\n"
     ]
    },
    {
     "name": "stdout",
     "output_type": "stream",
     "text": [
      "235/235 [==============================] - 1s 3ms/step - loss: 0.0927 - val_loss: 0.0915\n",
      "Epoch 43/50\n",
      "218/235 [==========================>...] - ETA: 0s - loss: 0.0927\n",
      "Epoch 43: val_loss did not improve from 0.09155\n",
      "235/235 [==============================] - 1s 2ms/step - loss: 0.0927 - val_loss: 0.0916\n",
      "Epoch 44/50\n",
      "215/235 [==========================>...] - ETA: 0s - loss: 0.0926\n",
      "Epoch 44: val_loss did not improve from 0.09155\n",
      "235/235 [==============================] - 1s 2ms/step - loss: 0.0927 - val_loss: 0.0916\n",
      "Epoch 45/50\n",
      "212/235 [==========================>...] - ETA: 0s - loss: 0.0926\n",
      "Epoch 45: val_loss did not improve from 0.09155\n",
      "235/235 [==============================] - 1s 2ms/step - loss: 0.0926 - val_loss: 0.0916\n",
      "Epoch 46/50\n",
      "221/235 [===========================>..] - ETA: 0s - loss: 0.0926\n",
      "Epoch 46: val_loss improved from 0.09155 to 0.09155, saving model to best_autoencoder\n",
      "INFO:tensorflow:Assets written to: best_autoencoder\\assets\n"
     ]
    },
    {
     "name": "stderr",
     "output_type": "stream",
     "text": [
      "INFO:tensorflow:Assets written to: best_autoencoder\\assets\n"
     ]
    },
    {
     "name": "stdout",
     "output_type": "stream",
     "text": [
      "235/235 [==============================] - 1s 3ms/step - loss: 0.0926 - val_loss: 0.0915\n",
      "Epoch 47/50\n",
      "231/235 [============================>.] - ETA: 0s - loss: 0.0926\n",
      "Epoch 47: val_loss improved from 0.09155 to 0.09151, saving model to best_autoencoder\n",
      "INFO:tensorflow:Assets written to: best_autoencoder\\assets\n"
     ]
    },
    {
     "name": "stderr",
     "output_type": "stream",
     "text": [
      "INFO:tensorflow:Assets written to: best_autoencoder\\assets\n"
     ]
    },
    {
     "name": "stdout",
     "output_type": "stream",
     "text": [
      "235/235 [==============================] - 1s 3ms/step - loss: 0.0926 - val_loss: 0.0915\n",
      "Epoch 48/50\n",
      "214/235 [==========================>...] - ETA: 0s - loss: 0.0927\n",
      "Epoch 48: val_loss did not improve from 0.09151\n",
      "235/235 [==============================] - 1s 3ms/step - loss: 0.0926 - val_loss: 0.0916\n",
      "Epoch 49/50\n",
      "218/235 [==========================>...] - ETA: 0s - loss: 0.0926\n",
      "Epoch 49: val_loss did not improve from 0.09151\n",
      "235/235 [==============================] - 1s 3ms/step - loss: 0.0926 - val_loss: 0.0916\n",
      "Epoch 50/50\n",
      "224/235 [===========================>..] - ETA: 0s - loss: 0.0926\n",
      "Epoch 50: val_loss did not improve from 0.09151\n",
      "235/235 [==============================] - 1s 3ms/step - loss: 0.0926 - val_loss: 0.0915\n"
     ]
    }
   ],
   "source": [
    "from keras.callbacks import ModelCheckpoint\n",
    "\n",
    "checkpoint = ModelCheckpoint(\"best_autoencoder\", monitor='val_loss', verbose=1, save_best_only=True, mode='min')\n",
    "\n",
    "history = autoencoder.fit(x_train, x_train,\n",
    "                epochs=50,\n",
    "                batch_size=256,\n",
    "                shuffle=True,\n",
    "                validation_data=(x_test, x_test),\n",
    "                callbacks=[checkpoint])"
   ]
  },
  {
   "cell_type": "code",
   "execution_count": 9,
   "metadata": {},
   "outputs": [],
   "source": [
    "# load the best autoencoder model\n",
    "autoencoder = keras.models.load_model(\"best_autoencoder\")"
   ]
  },
  {
   "cell_type": "code",
   "execution_count": 10,
   "metadata": {},
   "outputs": [
    {
     "name": "stdout",
     "output_type": "stream",
     "text": [
      "313/313 [==============================] - 0s 446us/step\n",
      "313/313 [==============================] - 0s 431us/step\n"
     ]
    }
   ],
   "source": [
    "# Encode and decode some digits\n",
    "# Note that we take them from the *test* set\n",
    "encoded_imgs = encoder.predict(x_test)\n",
    "decoded_imgs = decoder.predict(encoded_imgs)"
   ]
  },
  {
   "cell_type": "code",
   "execution_count": 11,
   "metadata": {},
   "outputs": [
    {
     "data": {
      "image/png": "[encoded data removed]",
      "text/plain": [
       "<Figure size 2000x400 with 20 Axes>"
      ]
     },
     "metadata": {},
     "output_type": "display_data"
    }
   ],
   "source": [
    "# Use Matplotlib (don't ask)\n",
    "import matplotlib.pyplot as plt\n",
    "\n",
    "n = 10  # How many digits we will display\n",
    "plt.figure(figsize=(20, 4))\n",
    "for i in range(n):\n",
    "    # Display original\n",
    "    ax = plt.subplot(2, n, i + 1)\n",
    "    plt.imshow(x_test[i].reshape(28, 28))\n",
    "    plt.gray()\n",
    "    ax.get_xaxis().set_visible(False)\n",
    "    ax.get_yaxis().set_visible(False)\n",
    "\n",
    "    # Display reconstruction\n",
    "    ax = plt.subplot(2, n, i + 1 + n)\n",
    "    plt.imshow(decoded_imgs[i].reshape(28, 28))\n",
    "    plt.gray()\n",
    "    ax.get_xaxis().set_visible(False)\n",
    "    ax.get_yaxis().set_visible(False)\n",
    "plt.show()"
   ]
  },
  {
   "cell_type": "markdown",
   "metadata": {},
   "source": [
    "## Adding a sparsity constraint on the encoded representations"
   ]
  },
  {
   "cell_type": "code",
   "execution_count": 12,
   "metadata": {},
   "outputs": [],
   "source": [
    "from keras import regularizers\n",
    "\n",
    "encoding_dim = 32\n",
    "\n",
    "input_img = keras.Input(shape=(784,))\n",
    "# Add a Dense layer with a L1 activity regularizer\n",
    "encoded = layers.Dense(encoding_dim, activation='relu',\n",
    "                activity_regularizer=regularizers.l1(10e-5))(input_img)\n",
    "decoded = layers.Dense(784, activation='sigmoid')(encoded)\n",
    "\n",
    "autoencoder = keras.Model(input_img, decoded)"
   ]
  }
 ],
 "metadata": {
  "kernelspec": {
   "display_name": "Python 3",
   "language": "python",
   "name": "python3"
  },
  "language_info": {
   "codemirror_mode": {
    "name": "ipython",
    "version": 3
   },
   "file_extension": ".py",
   "mimetype": "text/x-python",
   "name": "python",
   "nbconvert_exporter": "python",
   "pygments_lexer": "ipython3",
   "version": "3.11.9"
  }
 },
 "nbformat": 4,
 "nbformat_minor": 2
}
