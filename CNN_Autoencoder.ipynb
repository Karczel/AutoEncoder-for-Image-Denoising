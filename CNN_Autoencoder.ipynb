{
 "cells": [
  {
   "cell_type": "markdown",
   "metadata": {},
   "source": [
    "## Convolutional Autoencoder"
   ]
  },
  {
   "cell_type": "code",
   "execution_count": 2,
   "metadata": {},
   "outputs": [],
   "source": [
    "import keras\n",
    "from keras import layers\n",
    "\n",
    "input_img = keras.Input(shape=(28, 28, 1))\n",
    "\n",
    "x = layers.Conv2D(16, (3, 3), activation='relu', padding='same')(input_img)\n",
    "x = layers.MaxPooling2D((2, 2), padding='same')(x)\n",
    "x = layers.Conv2D(8, (3, 3), activation='relu', padding='same')(x)\n",
    "x = layers.MaxPooling2D((2, 2), padding='same')(x)\n",
    "x = layers.Conv2D(8, (3, 3), activation='relu', padding='same')(x)\n",
    "encoded = layers.MaxPooling2D((2, 2), padding='same')(x)\n",
    "\n",
    "# at this point the representation is (4, 4, 8) i.e. 128-dimensional\n",
    "\n",
    "x = layers.Conv2D(8, (3, 3), activation='relu', padding='same')(encoded)\n",
    "x = layers.UpSampling2D((2, 2))(x)\n",
    "x = layers.Conv2D(8, (3, 3), activation='relu', padding='same')(x)\n",
    "x = layers.UpSampling2D((2, 2))(x)\n",
    "x = layers.Conv2D(16, (3, 3), activation='relu')(x)\n",
    "x = layers.UpSampling2D((2, 2))(x)\n",
    "decoded = layers.Conv2D(1, (3, 3), activation='sigmoid', padding='same')(x)\n",
    "\n",
    "autoencoder = keras.Model(input_img, decoded)\n",
    "autoencoder.compile(optimizer='adam', loss='binary_crossentropy')"
   ]
  },
  {
   "cell_type": "code",
   "execution_count": 9,
   "metadata": {},
   "outputs": [],
   "source": [
    "# This model maps an input to its encoded representation\n",
    "encoder = keras.Model(input_img, encoded)"
   ]
  },
  {
   "cell_type": "code",
   "execution_count": 11,
   "metadata": {},
   "outputs": [
    {
     "data": {
      "image/png": "[encoded data removed]",
      "text/plain": [
       "<IPython.core.display.Image object>"
      ]
     },
     "execution_count": 11,
     "metadata": {},
     "output_type": "execute_result"
    }
   ],
   "source": [
    "# plot_model autoencoder\n",
    "\n",
    "from keras.utils import plot_model\n",
    "\n",
    "plot_model(autoencoder, to_file='CNN_Autoencoder/autoencoder.png',dpi=80, show_shapes=True)\n",
    "plot_model(encoder, to_file='CNN_Autoencoder/encoder.png',dpi=80, show_shapes=True)"
   ]
  },
  {
   "cell_type": "code",
   "execution_count": 3,
   "metadata": {},
   "outputs": [],
   "source": [
    "from keras.datasets import mnist\n",
    "import numpy as np\n",
    "\n",
    "(x_train, _), (x_test, _) = mnist.load_data()\n",
    "\n",
    "x_train = x_train.astype('float32') / 255.\n",
    "x_test = x_test.astype('float32') / 255.\n",
    "x_train = np.reshape(x_train, (len(x_train), 28, 28, 1))\n",
    "x_test = np.reshape(x_test, (len(x_test), 28, 28, 1))\n"
   ]
  },
  {
   "cell_type": "code",
   "execution_count": 4,
   "metadata": {},
   "outputs": [
    {
     "name": "stdout",
     "output_type": "stream",
     "text": [
      "Epoch 1/50\n",
      "234/235 [============================>.] - ETA: 0s - loss: 0.2721\n",
      "Epoch 1: val_loss improved from inf to 0.18019, saving model to best_autoencoderCNN\n",
      "INFO:tensorflow:Assets written to: best_autoencoderCNN\\assets\n"
     ]
    },
    {
     "name": "stderr",
     "output_type": "stream",
     "text": [
      "INFO:tensorflow:Assets written to: best_autoencoderCNN\\assets\n"
     ]
    },
    {
     "name": "stdout",
     "output_type": "stream",
     "text": [
      "235/235 [==============================] - 14s 57ms/step - loss: 0.2719 - val_loss: 0.1802\n",
      "Epoch 2/50\n",
      "235/235 [==============================] - ETA: 0s - loss: 0.1604\n",
      "Epoch 2: val_loss improved from 0.18019 to 0.14613, saving model to best_autoencoderCNN\n",
      "INFO:tensorflow:Assets written to: best_autoencoderCNN\\assets\n"
     ]
    },
    {
     "name": "stderr",
     "output_type": "stream",
     "text": [
      "INFO:tensorflow:Assets written to: best_autoencoderCNN\\assets\n"
     ]
    },
    {
     "name": "stdout",
     "output_type": "stream",
     "text": [
      "235/235 [==============================] - 13s 56ms/step - loss: 0.1604 - val_loss: 0.1461\n",
      "Epoch 3/50\n",
      "234/235 [============================>.] - ETA: 0s - loss: 0.1403\n",
      "Epoch 3: val_loss improved from 0.14613 to 0.13390, saving model to best_autoencoderCNN\n",
      "INFO:tensorflow:Assets written to: best_autoencoderCNN\\assets\n"
     ]
    },
    {
     "name": "stderr",
     "output_type": "stream",
     "text": [
      "INFO:tensorflow:Assets written to: best_autoencoderCNN\\assets\n"
     ]
    },
    {
     "name": "stdout",
     "output_type": "stream",
     "text": [
      "235/235 [==============================] - 13s 57ms/step - loss: 0.1403 - val_loss: 0.1339\n",
      "Epoch 4/50\n",
      "234/235 [============================>.] - ETA: 0s - loss: 0.1308\n",
      "Epoch 4: val_loss improved from 0.13390 to 0.12594, saving model to best_autoencoderCNN\n",
      "INFO:tensorflow:Assets written to: best_autoencoderCNN\\assets\n"
     ]
    },
    {
     "name": "stderr",
     "output_type": "stream",
     "text": [
      "INFO:tensorflow:Assets written to: best_autoencoderCNN\\assets\n"
     ]
    },
    {
     "name": "stdout",
     "output_type": "stream",
     "text": [
      "235/235 [==============================] - 14s 58ms/step - loss: 0.1307 - val_loss: 0.1259\n",
      "Epoch 5/50\n",
      "234/235 [============================>.] - ETA: 0s - loss: 0.1245\n",
      "Epoch 5: val_loss improved from 0.12594 to 0.12199, saving model to best_autoencoderCNN\n",
      "INFO:tensorflow:Assets written to: best_autoencoderCNN\\assets\n"
     ]
    },
    {
     "name": "stderr",
     "output_type": "stream",
     "text": [
      "INFO:tensorflow:Assets written to: best_autoencoderCNN\\assets\n"
     ]
    },
    {
     "name": "stdout",
     "output_type": "stream",
     "text": [
      "235/235 [==============================] - 14s 57ms/step - loss: 0.1245 - val_loss: 0.1220\n",
      "Epoch 6/50\n",
      "234/235 [============================>.] - ETA: 0s - loss: 0.1201\n",
      "Epoch 6: val_loss improved from 0.12199 to 0.11709, saving model to best_autoencoderCNN\n",
      "INFO:tensorflow:Assets written to: best_autoencoderCNN\\assets\n"
     ]
    },
    {
     "name": "stderr",
     "output_type": "stream",
     "text": [
      "INFO:tensorflow:Assets written to: best_autoencoderCNN\\assets\n"
     ]
    },
    {
     "name": "stdout",
     "output_type": "stream",
     "text": [
      "235/235 [==============================] - 13s 57ms/step - loss: 0.1201 - val_loss: 0.1171\n",
      "Epoch 7/50\n",
      "234/235 [============================>.] - ETA: 0s - loss: 0.1169\n",
      "Epoch 7: val_loss improved from 0.11709 to 0.11420, saving model to best_autoencoderCNN\n",
      "INFO:tensorflow:Assets written to: best_autoencoderCNN\\assets\n"
     ]
    },
    {
     "name": "stderr",
     "output_type": "stream",
     "text": [
      "INFO:tensorflow:Assets written to: best_autoencoderCNN\\assets\n"
     ]
    },
    {
     "name": "stdout",
     "output_type": "stream",
     "text": [
      "235/235 [==============================] - 14s 58ms/step - loss: 0.1169 - val_loss: 0.1142\n",
      "Epoch 8/50\n",
      "234/235 [============================>.] - ETA: 0s - loss: 0.1145\n",
      "Epoch 8: val_loss improved from 0.11420 to 0.11234, saving model to best_autoencoderCNN\n",
      "INFO:tensorflow:Assets written to: best_autoencoderCNN\\assets\n"
     ]
    },
    {
     "name": "stderr",
     "output_type": "stream",
     "text": [
      "INFO:tensorflow:Assets written to: best_autoencoderCNN\\assets\n"
     ]
    },
    {
     "name": "stdout",
     "output_type": "stream",
     "text": [
      "235/235 [==============================] - 14s 59ms/step - loss: 0.1145 - val_loss: 0.1123\n",
      "Epoch 9/50\n",
      "235/235 [==============================] - ETA: 0s - loss: 0.1124\n",
      "Epoch 9: val_loss improved from 0.11234 to 0.11044, saving model to best_autoencoderCNN\n",
      "INFO:tensorflow:Assets written to: best_autoencoderCNN\\assets\n"
     ]
    },
    {
     "name": "stderr",
     "output_type": "stream",
     "text": [
      "INFO:tensorflow:Assets written to: best_autoencoderCNN\\assets\n"
     ]
    },
    {
     "name": "stdout",
     "output_type": "stream",
     "text": [
      "235/235 [==============================] - 14s 58ms/step - loss: 0.1124 - val_loss: 0.1104\n",
      "Epoch 10/50\n",
      "234/235 [============================>.] - ETA: 0s - loss: 0.1106\n",
      "Epoch 10: val_loss improved from 0.11044 to 0.10888, saving model to best_autoencoderCNN\n",
      "INFO:tensorflow:Assets written to: best_autoencoderCNN\\assets\n"
     ]
    },
    {
     "name": "stderr",
     "output_type": "stream",
     "text": [
      "INFO:tensorflow:Assets written to: best_autoencoderCNN\\assets\n"
     ]
    },
    {
     "name": "stdout",
     "output_type": "stream",
     "text": [
      "235/235 [==============================] - 13s 57ms/step - loss: 0.1106 - val_loss: 0.1089\n",
      "Epoch 11/50\n",
      "234/235 [============================>.] - ETA: 0s - loss: 0.1091\n",
      "Epoch 11: val_loss improved from 0.10888 to 0.10753, saving model to best_autoencoderCNN\n",
      "INFO:tensorflow:Assets written to: best_autoencoderCNN\\assets\n"
     ]
    },
    {
     "name": "stderr",
     "output_type": "stream",
     "text": [
      "INFO:tensorflow:Assets written to: best_autoencoderCNN\\assets\n"
     ]
    },
    {
     "name": "stdout",
     "output_type": "stream",
     "text": [
      "235/235 [==============================] - 14s 58ms/step - loss: 0.1091 - val_loss: 0.1075\n",
      "Epoch 12/50\n",
      "234/235 [============================>.] - ETA: 0s - loss: 0.1079\n",
      "Epoch 12: val_loss improved from 0.10753 to 0.10582, saving model to best_autoencoderCNN\n",
      "INFO:tensorflow:Assets written to: best_autoencoderCNN\\assets\n"
     ]
    },
    {
     "name": "stderr",
     "output_type": "stream",
     "text": [
      "INFO:tensorflow:Assets written to: best_autoencoderCNN\\assets\n"
     ]
    },
    {
     "name": "stdout",
     "output_type": "stream",
     "text": [
      "235/235 [==============================] - 14s 58ms/step - loss: 0.1079 - val_loss: 0.1058\n",
      "Epoch 13/50\n",
      "234/235 [============================>.] - ETA: 0s - loss: 0.1066\n",
      "Epoch 13: val_loss improved from 0.10582 to 0.10487, saving model to best_autoencoderCNN\n",
      "INFO:tensorflow:Assets written to: best_autoencoderCNN\\assets\n"
     ]
    },
    {
     "name": "stderr",
     "output_type": "stream",
     "text": [
      "INFO:tensorflow:Assets written to: best_autoencoderCNN\\assets\n"
     ]
    },
    {
     "name": "stdout",
     "output_type": "stream",
     "text": [
      "235/235 [==============================] - 14s 58ms/step - loss: 0.1066 - val_loss: 0.1049\n",
      "Epoch 14/50\n",
      "234/235 [============================>.] - ETA: 0s - loss: 0.1055\n",
      "Epoch 14: val_loss improved from 0.10487 to 0.10401, saving model to best_autoencoderCNN\n",
      "INFO:tensorflow:Assets written to: best_autoencoderCNN\\assets\n"
     ]
    },
    {
     "name": "stderr",
     "output_type": "stream",
     "text": [
      "INFO:tensorflow:Assets written to: best_autoencoderCNN\\assets\n"
     ]
    },
    {
     "name": "stdout",
     "output_type": "stream",
     "text": [
      "235/235 [==============================] - 14s 58ms/step - loss: 0.1055 - val_loss: 0.1040\n",
      "Epoch 15/50\n",
      "234/235 [============================>.] - ETA: 0s - loss: 0.1046\n",
      "Epoch 15: val_loss improved from 0.10401 to 0.10332, saving model to best_autoencoderCNN\n",
      "INFO:tensorflow:Assets written to: best_autoencoderCNN\\assets\n"
     ]
    },
    {
     "name": "stderr",
     "output_type": "stream",
     "text": [
      "INFO:tensorflow:Assets written to: best_autoencoderCNN\\assets\n"
     ]
    },
    {
     "name": "stdout",
     "output_type": "stream",
     "text": [
      "235/235 [==============================] - 14s 59ms/step - loss: 0.1046 - val_loss: 0.1033\n",
      "Epoch 16/50\n",
      "234/235 [============================>.] - ETA: 0s - loss: 0.1038\n",
      "Epoch 16: val_loss improved from 0.10332 to 0.10237, saving model to best_autoencoderCNN\n",
      "INFO:tensorflow:Assets written to: best_autoencoderCNN\\assets\n"
     ]
    },
    {
     "name": "stderr",
     "output_type": "stream",
     "text": [
      "INFO:tensorflow:Assets written to: best_autoencoderCNN\\assets\n"
     ]
    },
    {
     "name": "stdout",
     "output_type": "stream",
     "text": [
      "235/235 [==============================] - 14s 58ms/step - loss: 0.1038 - val_loss: 0.1024\n",
      "Epoch 17/50\n",
      "234/235 [============================>.] - ETA: 0s - loss: 0.1031\n",
      "Epoch 17: val_loss improved from 0.10237 to 0.10168, saving model to best_autoencoderCNN\n",
      "INFO:tensorflow:Assets written to: best_autoencoderCNN\\assets\n"
     ]
    },
    {
     "name": "stderr",
     "output_type": "stream",
     "text": [
      "INFO:tensorflow:Assets written to: best_autoencoderCNN\\assets\n"
     ]
    },
    {
     "name": "stdout",
     "output_type": "stream",
     "text": [
      "235/235 [==============================] - 14s 58ms/step - loss: 0.1031 - val_loss: 0.1017\n",
      "Epoch 18/50\n",
      "234/235 [============================>.] - ETA: 0s - loss: 0.1025\n",
      "Epoch 18: val_loss improved from 0.10168 to 0.10117, saving model to best_autoencoderCNN\n",
      "INFO:tensorflow:Assets written to: best_autoencoderCNN\\assets\n"
     ]
    },
    {
     "name": "stderr",
     "output_type": "stream",
     "text": [
      "INFO:tensorflow:Assets written to: best_autoencoderCNN\\assets\n"
     ]
    },
    {
     "name": "stdout",
     "output_type": "stream",
     "text": [
      "235/235 [==============================] - 14s 58ms/step - loss: 0.1025 - val_loss: 0.1012\n",
      "Epoch 19/50\n",
      "234/235 [============================>.] - ETA: 0s - loss: 0.1019\n",
      "Epoch 19: val_loss improved from 0.10117 to 0.10053, saving model to best_autoencoderCNN\n",
      "INFO:tensorflow:Assets written to: best_autoencoderCNN\\assets\n"
     ]
    },
    {
     "name": "stderr",
     "output_type": "stream",
     "text": [
      "INFO:tensorflow:Assets written to: best_autoencoderCNN\\assets\n"
     ]
    },
    {
     "name": "stdout",
     "output_type": "stream",
     "text": [
      "235/235 [==============================] - 14s 58ms/step - loss: 0.1019 - val_loss: 0.1005\n",
      "Epoch 20/50\n",
      "234/235 [============================>.] - ETA: 0s - loss: 0.1014\n",
      "Epoch 20: val_loss improved from 0.10053 to 0.10008, saving model to best_autoencoderCNN\n",
      "INFO:tensorflow:Assets written to: best_autoencoderCNN\\assets\n"
     ]
    },
    {
     "name": "stderr",
     "output_type": "stream",
     "text": [
      "INFO:tensorflow:Assets written to: best_autoencoderCNN\\assets\n"
     ]
    },
    {
     "name": "stdout",
     "output_type": "stream",
     "text": [
      "235/235 [==============================] - 14s 58ms/step - loss: 0.1015 - val_loss: 0.1001\n",
      "Epoch 21/50\n",
      "234/235 [============================>.] - ETA: 0s - loss: 0.1010\n",
      "Epoch 21: val_loss improved from 0.10008 to 0.09966, saving model to best_autoencoderCNN\n",
      "INFO:tensorflow:Assets written to: best_autoencoderCNN\\assets\n"
     ]
    },
    {
     "name": "stderr",
     "output_type": "stream",
     "text": [
      "INFO:tensorflow:Assets written to: best_autoencoderCNN\\assets\n"
     ]
    },
    {
     "name": "stdout",
     "output_type": "stream",
     "text": [
      "235/235 [==============================] - 14s 58ms/step - loss: 0.1010 - val_loss: 0.0997\n",
      "Epoch 22/50\n",
      "234/235 [============================>.] - ETA: 0s - loss: 0.1005\n",
      "Epoch 22: val_loss improved from 0.09966 to 0.09921, saving model to best_autoencoderCNN\n",
      "INFO:tensorflow:Assets written to: best_autoencoderCNN\\assets\n"
     ]
    },
    {
     "name": "stderr",
     "output_type": "stream",
     "text": [
      "INFO:tensorflow:Assets written to: best_autoencoderCNN\\assets\n"
     ]
    },
    {
     "name": "stdout",
     "output_type": "stream",
     "text": [
      "235/235 [==============================] - 14s 59ms/step - loss: 0.1005 - val_loss: 0.0992\n",
      "Epoch 23/50\n",
      "235/235 [==============================] - ETA: 0s - loss: 0.1001\n",
      "Epoch 23: val_loss improved from 0.09921 to 0.09886, saving model to best_autoencoderCNN\n",
      "INFO:tensorflow:Assets written to: best_autoencoderCNN\\assets\n"
     ]
    },
    {
     "name": "stderr",
     "output_type": "stream",
     "text": [
      "INFO:tensorflow:Assets written to: best_autoencoderCNN\\assets\n"
     ]
    },
    {
     "name": "stdout",
     "output_type": "stream",
     "text": [
      "235/235 [==============================] - 14s 59ms/step - loss: 0.1001 - val_loss: 0.0989\n",
      "Epoch 24/50\n",
      "234/235 [============================>.] - ETA: 0s - loss: 0.0997\n",
      "Epoch 24: val_loss did not improve from 0.09886\n",
      "235/235 [==============================] - 13s 57ms/step - loss: 0.0997 - val_loss: 0.0989\n",
      "Epoch 25/50\n",
      "234/235 [============================>.] - ETA: 0s - loss: 0.0994\n",
      "Epoch 25: val_loss improved from 0.09886 to 0.09805, saving model to best_autoencoderCNN\n",
      "INFO:tensorflow:Assets written to: best_autoencoderCNN\\assets\n"
     ]
    },
    {
     "name": "stderr",
     "output_type": "stream",
     "text": [
      "INFO:tensorflow:Assets written to: best_autoencoderCNN\\assets\n"
     ]
    },
    {
     "name": "stdout",
     "output_type": "stream",
     "text": [
      "235/235 [==============================] - 14s 60ms/step - loss: 0.0994 - val_loss: 0.0980\n",
      "Epoch 26/50\n",
      "234/235 [============================>.] - ETA: 0s - loss: 0.0991\n",
      "Epoch 26: val_loss improved from 0.09805 to 0.09773, saving model to best_autoencoderCNN\n",
      "INFO:tensorflow:Assets written to: best_autoencoderCNN\\assets\n"
     ]
    },
    {
     "name": "stderr",
     "output_type": "stream",
     "text": [
      "INFO:tensorflow:Assets written to: best_autoencoderCNN\\assets\n"
     ]
    },
    {
     "name": "stdout",
     "output_type": "stream",
     "text": [
      "235/235 [==============================] - 14s 58ms/step - loss: 0.0991 - val_loss: 0.0977\n",
      "Epoch 27/50\n",
      "234/235 [============================>.] - ETA: 0s - loss: 0.0988\n",
      "Epoch 27: val_loss did not improve from 0.09773\n",
      "235/235 [==============================] - 14s 58ms/step - loss: 0.0988 - val_loss: 0.0980\n",
      "Epoch 28/50\n",
      "234/235 [============================>.] - ETA: 0s - loss: 0.0985\n",
      "Epoch 28: val_loss improved from 0.09773 to 0.09711, saving model to best_autoencoderCNN\n",
      "INFO:tensorflow:Assets written to: best_autoencoderCNN\\assets\n"
     ]
    },
    {
     "name": "stderr",
     "output_type": "stream",
     "text": [
      "INFO:tensorflow:Assets written to: best_autoencoderCNN\\assets\n"
     ]
    },
    {
     "name": "stdout",
     "output_type": "stream",
     "text": [
      "235/235 [==============================] - 14s 58ms/step - loss: 0.0985 - val_loss: 0.0971\n",
      "Epoch 29/50\n",
      "234/235 [============================>.] - ETA: 0s - loss: 0.0981\n",
      "Epoch 29: val_loss did not improve from 0.09711\n",
      "235/235 [==============================] - 14s 59ms/step - loss: 0.0981 - val_loss: 0.0971\n",
      "Epoch 30/50\n",
      "234/235 [============================>.] - ETA: 0s - loss: 0.0979\n",
      "Epoch 30: val_loss improved from 0.09711 to 0.09658, saving model to best_autoencoderCNN\n",
      "INFO:tensorflow:Assets written to: best_autoencoderCNN\\assets\n"
     ]
    },
    {
     "name": "stderr",
     "output_type": "stream",
     "text": [
      "INFO:tensorflow:Assets written to: best_autoencoderCNN\\assets\n"
     ]
    },
    {
     "name": "stdout",
     "output_type": "stream",
     "text": [
      "235/235 [==============================] - 14s 60ms/step - loss: 0.0979 - val_loss: 0.0966\n",
      "Epoch 31/50\n",
      "234/235 [============================>.] - ETA: 0s - loss: 0.0976\n",
      "Epoch 31: val_loss did not improve from 0.09658\n",
      "235/235 [==============================] - 14s 58ms/step - loss: 0.0976 - val_loss: 0.0966\n",
      "Epoch 32/50\n",
      "234/235 [============================>.] - ETA: 0s - loss: 0.0974\n",
      "Epoch 32: val_loss improved from 0.09658 to 0.09651, saving model to best_autoencoderCNN\n",
      "INFO:tensorflow:Assets written to: best_autoencoderCNN\\assets\n"
     ]
    },
    {
     "name": "stderr",
     "output_type": "stream",
     "text": [
      "INFO:tensorflow:Assets written to: best_autoencoderCNN\\assets\n"
     ]
    },
    {
     "name": "stdout",
     "output_type": "stream",
     "text": [
      "235/235 [==============================] - 14s 60ms/step - loss: 0.0974 - val_loss: 0.0965\n",
      "Epoch 33/50\n",
      "234/235 [============================>.] - ETA: 0s - loss: 0.0971\n",
      "Epoch 33: val_loss improved from 0.09651 to 0.09636, saving model to best_autoencoderCNN\n",
      "INFO:tensorflow:Assets written to: best_autoencoderCNN\\assets\n"
     ]
    },
    {
     "name": "stderr",
     "output_type": "stream",
     "text": [
      "INFO:tensorflow:Assets written to: best_autoencoderCNN\\assets\n"
     ]
    },
    {
     "name": "stdout",
     "output_type": "stream",
     "text": [
      "235/235 [==============================] - 14s 60ms/step - loss: 0.0970 - val_loss: 0.0964\n",
      "Epoch 34/50\n",
      "234/235 [============================>.] - ETA: 0s - loss: 0.0969\n",
      "Epoch 34: val_loss improved from 0.09636 to 0.09556, saving model to best_autoencoderCNN\n",
      "INFO:tensorflow:Assets written to: best_autoencoderCNN\\assets\n"
     ]
    },
    {
     "name": "stderr",
     "output_type": "stream",
     "text": [
      "INFO:tensorflow:Assets written to: best_autoencoderCNN\\assets\n"
     ]
    },
    {
     "name": "stdout",
     "output_type": "stream",
     "text": [
      "235/235 [==============================] - 14s 61ms/step - loss: 0.0969 - val_loss: 0.0956\n",
      "Epoch 35/50\n",
      "234/235 [============================>.] - ETA: 0s - loss: 0.0966\n",
      "Epoch 35: val_loss improved from 0.09556 to 0.09534, saving model to best_autoencoderCNN\n",
      "INFO:tensorflow:Assets written to: best_autoencoderCNN\\assets\n"
     ]
    },
    {
     "name": "stderr",
     "output_type": "stream",
     "text": [
      "INFO:tensorflow:Assets written to: best_autoencoderCNN\\assets\n"
     ]
    },
    {
     "name": "stdout",
     "output_type": "stream",
     "text": [
      "235/235 [==============================] - 15s 62ms/step - loss: 0.0966 - val_loss: 0.0953\n",
      "Epoch 36/50\n",
      "234/235 [============================>.] - ETA: 0s - loss: 0.0964\n",
      "Epoch 36: val_loss did not improve from 0.09534\n",
      "235/235 [==============================] - 14s 58ms/step - loss: 0.0964 - val_loss: 0.0959\n",
      "Epoch 37/50\n",
      "234/235 [============================>.] - ETA: 0s - loss: 0.0962\n",
      "Epoch 37: val_loss improved from 0.09534 to 0.09494, saving model to best_autoencoderCNN\n",
      "INFO:tensorflow:Assets written to: best_autoencoderCNN\\assets\n"
     ]
    },
    {
     "name": "stderr",
     "output_type": "stream",
     "text": [
      "INFO:tensorflow:Assets written to: best_autoencoderCNN\\assets\n"
     ]
    },
    {
     "name": "stdout",
     "output_type": "stream",
     "text": [
      "235/235 [==============================] - 14s 59ms/step - loss: 0.0962 - val_loss: 0.0949\n",
      "Epoch 38/50\n",
      "234/235 [============================>.] - ETA: 0s - loss: 0.0959\n",
      "Epoch 38: val_loss did not improve from 0.09494\n",
      "235/235 [==============================] - 14s 58ms/step - loss: 0.0959 - val_loss: 0.0951\n",
      "Epoch 39/50\n",
      "234/235 [============================>.] - ETA: 0s - loss: 0.0957\n",
      "Epoch 39: val_loss improved from 0.09494 to 0.09457, saving model to best_autoencoderCNN\n",
      "INFO:tensorflow:Assets written to: best_autoencoderCNN\\assets\n"
     ]
    },
    {
     "name": "stderr",
     "output_type": "stream",
     "text": [
      "INFO:tensorflow:Assets written to: best_autoencoderCNN\\assets\n"
     ]
    },
    {
     "name": "stdout",
     "output_type": "stream",
     "text": [
      "235/235 [==============================] - 14s 60ms/step - loss: 0.0957 - val_loss: 0.0946\n",
      "Epoch 40/50\n",
      "234/235 [============================>.] - ETA: 0s - loss: 0.0956\n",
      "Epoch 40: val_loss improved from 0.09457 to 0.09437, saving model to best_autoencoderCNN\n",
      "INFO:tensorflow:Assets written to: best_autoencoderCNN\\assets\n"
     ]
    },
    {
     "name": "stderr",
     "output_type": "stream",
     "text": [
      "INFO:tensorflow:Assets written to: best_autoencoderCNN\\assets\n"
     ]
    },
    {
     "name": "stdout",
     "output_type": "stream",
     "text": [
      "235/235 [==============================] - 14s 61ms/step - loss: 0.0956 - val_loss: 0.0944\n",
      "Epoch 41/50\n",
      "234/235 [============================>.] - ETA: 0s - loss: 0.0953\n",
      "Epoch 41: val_loss improved from 0.09437 to 0.09409, saving model to best_autoencoderCNN\n",
      "INFO:tensorflow:Assets written to: best_autoencoderCNN\\assets\n"
     ]
    },
    {
     "name": "stderr",
     "output_type": "stream",
     "text": [
      "INFO:tensorflow:Assets written to: best_autoencoderCNN\\assets\n"
     ]
    },
    {
     "name": "stdout",
     "output_type": "stream",
     "text": [
      "235/235 [==============================] - 15s 62ms/step - loss: 0.0953 - val_loss: 0.0941\n",
      "Epoch 42/50\n",
      "234/235 [============================>.] - ETA: 0s - loss: 0.0951\n",
      "Epoch 42: val_loss improved from 0.09409 to 0.09409, saving model to best_autoencoderCNN\n",
      "INFO:tensorflow:Assets written to: best_autoencoderCNN\\assets\n"
     ]
    },
    {
     "name": "stderr",
     "output_type": "stream",
     "text": [
      "INFO:tensorflow:Assets written to: best_autoencoderCNN\\assets\n"
     ]
    },
    {
     "name": "stdout",
     "output_type": "stream",
     "text": [
      "235/235 [==============================] - 14s 60ms/step - loss: 0.0951 - val_loss: 0.0941\n",
      "Epoch 43/50\n",
      "234/235 [============================>.] - ETA: 0s - loss: 0.0950\n",
      "Epoch 43: val_loss did not improve from 0.09409\n",
      "235/235 [==============================] - 14s 59ms/step - loss: 0.0950 - val_loss: 0.0941\n",
      "Epoch 44/50\n",
      "234/235 [============================>.] - ETA: 0s - loss: 0.0948\n",
      "Epoch 44: val_loss improved from 0.09409 to 0.09354, saving model to best_autoencoderCNN\n",
      "INFO:tensorflow:Assets written to: best_autoencoderCNN\\assets\n"
     ]
    },
    {
     "name": "stderr",
     "output_type": "stream",
     "text": [
      "INFO:tensorflow:Assets written to: best_autoencoderCNN\\assets\n"
     ]
    },
    {
     "name": "stdout",
     "output_type": "stream",
     "text": [
      "235/235 [==============================] - 14s 60ms/step - loss: 0.0948 - val_loss: 0.0935\n",
      "Epoch 45/50\n",
      "234/235 [============================>.] - ETA: 0s - loss: 0.0946\n",
      "Epoch 45: val_loss did not improve from 0.09354\n",
      "235/235 [==============================] - 14s 58ms/step - loss: 0.0946 - val_loss: 0.0936\n",
      "Epoch 46/50\n",
      "234/235 [============================>.] - ETA: 0s - loss: 0.0945\n",
      "Epoch 46: val_loss improved from 0.09354 to 0.09342, saving model to best_autoencoderCNN\n",
      "INFO:tensorflow:Assets written to: best_autoencoderCNN\\assets\n"
     ]
    },
    {
     "name": "stderr",
     "output_type": "stream",
     "text": [
      "INFO:tensorflow:Assets written to: best_autoencoderCNN\\assets\n"
     ]
    },
    {
     "name": "stdout",
     "output_type": "stream",
     "text": [
      "235/235 [==============================] - 14s 60ms/step - loss: 0.0945 - val_loss: 0.0934\n",
      "Epoch 47/50\n",
      "234/235 [============================>.] - ETA: 0s - loss: 0.0943\n",
      "Epoch 47: val_loss improved from 0.09342 to 0.09317, saving model to best_autoencoderCNN\n",
      "INFO:tensorflow:Assets written to: best_autoencoderCNN\\assets\n"
     ]
    },
    {
     "name": "stderr",
     "output_type": "stream",
     "text": [
      "INFO:tensorflow:Assets written to: best_autoencoderCNN\\assets\n"
     ]
    },
    {
     "name": "stdout",
     "output_type": "stream",
     "text": [
      "235/235 [==============================] - 14s 61ms/step - loss: 0.0943 - val_loss: 0.0932\n",
      "Epoch 48/50\n",
      "234/235 [============================>.] - ETA: 0s - loss: 0.0941\n",
      "Epoch 48: val_loss did not improve from 0.09317\n",
      "235/235 [==============================] - 14s 58ms/step - loss: 0.0941 - val_loss: 0.0945\n",
      "Epoch 49/50\n",
      "234/235 [============================>.] - ETA: 0s - loss: 0.0941\n",
      "Epoch 49: val_loss improved from 0.09317 to 0.09290, saving model to best_autoencoderCNN\n",
      "INFO:tensorflow:Assets written to: best_autoencoderCNN\\assets\n"
     ]
    },
    {
     "name": "stderr",
     "output_type": "stream",
     "text": [
      "INFO:tensorflow:Assets written to: best_autoencoderCNN\\assets\n"
     ]
    },
    {
     "name": "stdout",
     "output_type": "stream",
     "text": [
      "235/235 [==============================] - 14s 60ms/step - loss: 0.0941 - val_loss: 0.0929\n",
      "Epoch 50/50\n",
      "234/235 [============================>.] - ETA: 0s - loss: 0.0938\n",
      "Epoch 50: val_loss improved from 0.09290 to 0.09274, saving model to best_autoencoderCNN\n",
      "INFO:tensorflow:Assets written to: best_autoencoderCNN\\assets\n"
     ]
    },
    {
     "name": "stderr",
     "output_type": "stream",
     "text": [
      "INFO:tensorflow:Assets written to: best_autoencoderCNN\\assets\n"
     ]
    },
    {
     "name": "stdout",
     "output_type": "stream",
     "text": [
      "235/235 [==============================] - 14s 61ms/step - loss: 0.0938 - val_loss: 0.0927\n"
     ]
    },
    {
     "data": {
      "text/plain": [
       "Reusing TensorBoard on port 6006 (pid 35756), started 3:54:53 ago. (Use '!kill 35756' to kill it.)"
      ]
     },
     "metadata": {},
     "output_type": "display_data"
    },
    {
     "data": {
      "text/html": [
       "\n",
       "      <iframe id=\"tensorboard-frame-177417e47681277f\" width=\"100%\" height=\"800\" frameborder=\"0\">\n",
       "      </iframe>\n",
       "      <script>\n",
       "        (function() {\n",
       "          const frame = document.getElementById(\"tensorboard-frame-177417e47681277f\");\n",
       "          const url = new URL(\"http://localhost\");\n",
       "          const port = 6006;\n",
       "          if (port) {\n",
       "            url.port = port;\n",
       "          }\n",
       "          frame.src = url;\n",
       "        })();\n",
       "      </script>\n",
       "    "
      ],
      "text/plain": [
       "<IPython.core.display.HTML object>"
      ]
     },
     "metadata": {},
     "output_type": "display_data"
    }
   ],
   "source": [
    "import tensorflow as tf\n",
    "import shutil\n",
    "from keras.callbacks import ModelCheckpoint\n",
    "\n",
    "# Load the TensorBoard notebook extension\n",
    "%load_ext tensorboard\n",
    "\n",
    "# Clear any logs from previous runs\n",
    "\n",
    "# Mac/Linux\n",
    "# !rm -rf ./logs/\n",
    "\n",
    "# Windows\n",
    "shutil.rmtree(\"./logs\", ignore_errors=True)\n",
    "\n",
    "checkpointCNN = ModelCheckpoint(\"best_autoencoderCNN\", monitor='val_loss', verbose=1, save_best_only=True, mode='min')\n",
    "\n",
    "# Define the TensorBoard callback\n",
    "tensorboard_callback = tf.keras.callbacks.TensorBoard(log_dir=\"./logs\", histogram_freq=1)\n",
    "\n",
    "callbacks_list = [checkpointCNN, tensorboard_callback]\n",
    "\n",
    "\n",
    "# Add the TensorBoard callback to the fit method\n",
    "history = autoencoder.fit(x_train, x_train,\n",
    "                epochs=50,\n",
    "                batch_size=256,\n",
    "                shuffle=True,\n",
    "                validation_data=(x_test, x_test),\n",
    "                callbacks=callbacks_list) # added callback\n",
    "\n",
    "# Start TensorBoard\n",
    "%tensorboard --logdir logs\n"
   ]
  },
  {
   "cell_type": "code",
   "execution_count": 5,
   "metadata": {},
   "outputs": [
    {
     "name": "stdout",
     "output_type": "stream",
     "text": [
      "313/313 [==============================] - 2s 5ms/step\n"
     ]
    }
   ],
   "source": [
    "decoded_imgs = autoencoder.predict(x_test)"
   ]
  },
  {
   "cell_type": "code",
   "execution_count": 6,
   "metadata": {},
   "outputs": [
    {
     "data": {
      "image/png": "[encoded data removed]",
      "text/plain": [
       "<Figure size 2000x400 with 20 Axes>"
      ]
     },
     "metadata": {},
     "output_type": "display_data"
    }
   ],
   "source": [
    "import matplotlib.pyplot as plt\n",
    "n = 10\n",
    "plt.figure(figsize=(20, 4))\n",
    "for i in range(1, n + 1):\n",
    "    # Display original\n",
    "    ax = plt.subplot(2, n, i)\n",
    "    plt.imshow(x_test[i].reshape(28, 28))\n",
    "    plt.gray()\n",
    "    ax.get_xaxis().set_visible(False)\n",
    "    ax.get_yaxis().set_visible(False)\n",
    "\n",
    "    # Display reconstruction\n",
    "    ax = plt.subplot(2, n, i + n)\n",
    "    plt.imshow(decoded_imgs[i].reshape(28, 28))\n",
    "    plt.gray()\n",
    "    ax.get_xaxis().set_visible(False)\n",
    "    ax.get_yaxis().set_visible(False)\n",
    "plt.show()"
   ]
  },
  {
   "cell_type": "code",
   "execution_count": 7,
   "metadata": {},
   "outputs": [
    {
     "name": "stdout",
     "output_type": "stream",
     "text": [
      "313/313 [==============================] - 1s 2ms/step\n"
     ]
    }
   ],
   "source": [
    "encoder = keras.Model(input_img, encoded)\n",
    "encoded_imgs = encoder.predict(x_test)"
   ]
  },
  {
   "cell_type": "code",
   "execution_count": 8,
   "metadata": {},
   "outputs": [
    {
     "data": {
      "image/png": "[encoded data removed]",
      "text/plain": [
       "<Figure size 2000x800 with 10 Axes>"
      ]
     },
     "metadata": {},
     "output_type": "display_data"
    }
   ],
   "source": [
    "n = 10\n",
    "plt.figure(figsize=(20, 8))\n",
    "for i in range(1, n + 1):\n",
    "    ax = plt.subplot(1, n, i)\n",
    "    plt.imshow(encoded_imgs[i].reshape((4, 4 * 8)).T)\n",
    "    plt.gray()\n",
    "    ax.get_xaxis().set_visible(False)\n",
    "    ax.get_yaxis().set_visible(False)\n",
    "plt.show()"
   ]
  }
 ],
 "metadata": {
  "kernelspec": {
   "display_name": "Python 3",
   "language": "python",
   "name": "python3"
  },
  "language_info": {
   "codemirror_mode": {
    "name": "ipython",
    "version": 3
   },
   "file_extension": ".py",
   "mimetype": "text/x-python",
   "name": "python",
   "nbconvert_exporter": "python",
   "pygments_lexer": "ipython3",
   "version": "3.11.9"
  }
 },
 "nbformat": 4,
 "nbformat_minor": 2
}
