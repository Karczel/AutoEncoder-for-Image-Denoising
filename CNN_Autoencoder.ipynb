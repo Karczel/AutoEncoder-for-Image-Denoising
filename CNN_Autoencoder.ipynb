{
 "cells": [
  {
   "cell_type": "markdown",
   "metadata": {},
   "source": [
    "## Convolutional Autoencoder"
   ]
  },
  {
   "cell_type": "code",
   "execution_count": 2,
   "metadata": {},
   "outputs": [],
   "source": [
    "import keras\n",
    "from keras import layers\n",
    "\n",
    "input_img = keras.Input(shape=(28, 28, 1))\n",
    "\n",
    "x = layers.Conv2D(16, (3, 3), activation='relu', padding='same')(input_img)\n",
    "x = layers.MaxPooling2D((2, 2), padding='same')(x)\n",
    "x = layers.Conv2D(8, (3, 3), activation='relu', padding='same')(x)\n",
    "x = layers.MaxPooling2D((2, 2), padding='same')(x)\n",
    "x = layers.Conv2D(8, (3, 3), activation='relu', padding='same')(x)\n",
    "encoded = layers.MaxPooling2D((2, 2), padding='same')(x)\n",
    "\n",
    "# at this point the representation is (4, 4, 8) i.e. 128-dimensional\n",
    "\n",
    "x = layers.Conv2D(8, (3, 3), activation='relu', padding='same')(encoded)\n",
    "x = layers.UpSampling2D((2, 2))(x)\n",
    "x = layers.Conv2D(8, (3, 3), activation='relu', padding='same')(x)\n",
    "x = layers.UpSampling2D((2, 2))(x)\n",
    "x = layers.Conv2D(16, (3, 3), activation='relu')(x)\n",
    "x = layers.UpSampling2D((2, 2))(x)\n",
    "decoded = layers.Conv2D(1, (3, 3), activation='sigmoid', padding='same')(x)\n",
    "\n",
    "autoencoder = keras.Model(input_img, decoded)\n",
    "autoencoder.compile(optimizer='adam', loss='binary_crossentropy')"
   ]
  },
  {
   "cell_type": "code",
   "execution_count": 9,
   "metadata": {},
   "outputs": [],
   "source": [
    "# This model maps an input to its encoded representation\n",
    "encoder = keras.Model(input_img, encoded)"
   ]
  },
  {
   "cell_type": "code",
   "execution_count": 11,
   "metadata": {},
   "outputs": [
    {
     "data": {
      "image/png": "[encoded data removed]",
      "text/plain": [
       "<IPython.core.display.Image object>"
      ]
     },
     "execution_count": 11,
     "metadata": {},
     "output_type": "execute_result"
    }
   ],
   "source": [
    "# plot_model autoencoder\n",
    "\n",
    "from keras.utils import plot_model\n",
    "\n",
    "plot_model(autoencoder, to_file='CNN_Autoencoder/autoencoder.png',dpi=80, show_shapes=True)\n",
    "plot_model(encoder, to_file='CNN_Autoencoder/encoder.png',dpi=80, show_shapes=True)"
   ]
  },
  {
   "cell_type": "code",
   "execution_count": 3,
   "metadata": {},
   "outputs": [],
   "source": [
    "from keras.datasets import mnist\n",
    "import numpy as np\n",
    "\n",
    "(x_train, _), (x_test, _) = mnist.load_data()\n",
    "\n",
    "x_train = x_train.astype('float32') / 255.\n",
    "x_test = x_test.astype('float32') / 255.\n",
    "x_train = np.reshape(x_train, (len(x_train), 28, 28, 1))\n",
    "x_test = np.reshape(x_test, (len(x_test), 28, 28, 1))\n"
   ]
  },
  {
   "cell_type": "code",
   "execution_count": 12,
   "metadata": {},
   "outputs": [
    {
     "name": "stdout",
     "output_type": "stream",
     "text": [
      "The tensorboard extension is already loaded. To reload it, use:\n",
      "  %reload_ext tensorboard\n",
      "Epoch 1/100\n",
      "234/235 [============================>.] - ETA: 0s - loss: 0.0937\n",
      "Epoch 1: val_loss improved from inf to 0.09296, saving model to best_autoencoderCNN\n",
      "INFO:tensorflow:Assets written to: best_autoencoderCNN\\assets\n"
     ]
    },
    {
     "name": "stderr",
     "output_type": "stream",
     "text": [
      "INFO:tensorflow:Assets written to: best_autoencoderCNN\\assets\n"
     ]
    },
    {
     "name": "stdout",
     "output_type": "stream",
     "text": [
      "235/235 [==============================] - 14s 61ms/step - loss: 0.0937 - val_loss: 0.0930\n",
      "Epoch 2/100\n",
      "234/235 [============================>.] - ETA: 0s - loss: 0.0935\n",
      "Epoch 2: val_loss improved from 0.09296 to 0.09265, saving model to best_autoencoderCNN\n",
      "INFO:tensorflow:Assets written to: best_autoencoderCNN\\assets\n"
     ]
    },
    {
     "name": "stderr",
     "output_type": "stream",
     "text": [
      "INFO:tensorflow:Assets written to: best_autoencoderCNN\\assets\n"
     ]
    },
    {
     "name": "stdout",
     "output_type": "stream",
     "text": [
      "235/235 [==============================] - 14s 59ms/step - loss: 0.0935 - val_loss: 0.0927\n",
      "Epoch 3/100\n",
      "234/235 [============================>.] - ETA: 0s - loss: 0.0934\n",
      "Epoch 3: val_loss improved from 0.09265 to 0.09231, saving model to best_autoencoderCNN\n",
      "INFO:tensorflow:Assets written to: best_autoencoderCNN\\assets\n"
     ]
    },
    {
     "name": "stderr",
     "output_type": "stream",
     "text": [
      "INFO:tensorflow:Assets written to: best_autoencoderCNN\\assets\n"
     ]
    },
    {
     "name": "stdout",
     "output_type": "stream",
     "text": [
      "235/235 [==============================] - 13s 56ms/step - loss: 0.0934 - val_loss: 0.0923\n",
      "Epoch 4/100\n",
      "234/235 [============================>.] - ETA: 0s - loss: 0.0933\n",
      "Epoch 4: val_loss improved from 0.09231 to 0.09217, saving model to best_autoencoderCNN\n",
      "INFO:tensorflow:Assets written to: best_autoencoderCNN\\assets\n"
     ]
    },
    {
     "name": "stderr",
     "output_type": "stream",
     "text": [
      "INFO:tensorflow:Assets written to: best_autoencoderCNN\\assets\n"
     ]
    },
    {
     "name": "stdout",
     "output_type": "stream",
     "text": [
      "235/235 [==============================] - 13s 56ms/step - loss: 0.0933 - val_loss: 0.0922\n",
      "Epoch 5/100\n",
      "234/235 [============================>.] - ETA: 0s - loss: 0.0932\n",
      "Epoch 5: val_loss improved from 0.09217 to 0.09202, saving model to best_autoencoderCNN\n",
      "INFO:tensorflow:Assets written to: best_autoencoderCNN\\assets\n"
     ]
    },
    {
     "name": "stderr",
     "output_type": "stream",
     "text": [
      "INFO:tensorflow:Assets written to: best_autoencoderCNN\\assets\n"
     ]
    },
    {
     "name": "stdout",
     "output_type": "stream",
     "text": [
      "235/235 [==============================] - 13s 57ms/step - loss: 0.0932 - val_loss: 0.0920\n",
      "Epoch 6/100\n",
      "234/235 [============================>.] - ETA: 0s - loss: 0.0930\n",
      "Epoch 6: val_loss did not improve from 0.09202\n",
      "235/235 [==============================] - 13s 56ms/step - loss: 0.0930 - val_loss: 0.0922\n",
      "Epoch 7/100\n",
      "234/235 [============================>.] - ETA: 0s - loss: 0.0930\n",
      "Epoch 7: val_loss improved from 0.09202 to 0.09169, saving model to best_autoencoderCNN\n",
      "INFO:tensorflow:Assets written to: best_autoencoderCNN\\assets\n"
     ]
    },
    {
     "name": "stderr",
     "output_type": "stream",
     "text": [
      "INFO:tensorflow:Assets written to: best_autoencoderCNN\\assets\n"
     ]
    },
    {
     "name": "stdout",
     "output_type": "stream",
     "text": [
      "235/235 [==============================] - 14s 58ms/step - loss: 0.0930 - val_loss: 0.0917\n",
      "Epoch 8/100\n",
      "234/235 [============================>.] - ETA: 0s - loss: 0.0928\n",
      "Epoch 8: val_loss did not improve from 0.09169\n",
      "235/235 [==============================] - 14s 58ms/step - loss: 0.0928 - val_loss: 0.0917\n",
      "Epoch 9/100\n",
      "234/235 [============================>.] - ETA: 0s - loss: 0.0927\n",
      "Epoch 9: val_loss improved from 0.09169 to 0.09160, saving model to best_autoencoderCNN\n",
      "INFO:tensorflow:Assets written to: best_autoencoderCNN\\assets\n"
     ]
    },
    {
     "name": "stderr",
     "output_type": "stream",
     "text": [
      "INFO:tensorflow:Assets written to: best_autoencoderCNN\\assets\n"
     ]
    },
    {
     "name": "stdout",
     "output_type": "stream",
     "text": [
      "235/235 [==============================] - 14s 59ms/step - loss: 0.0927 - val_loss: 0.0916\n",
      "Epoch 10/100\n",
      "234/235 [============================>.] - ETA: 0s - loss: 0.0926\n",
      "Epoch 10: val_loss improved from 0.09160 to 0.09143, saving model to best_autoencoderCNN\n",
      "INFO:tensorflow:Assets written to: best_autoencoderCNN\\assets\n"
     ]
    },
    {
     "name": "stderr",
     "output_type": "stream",
     "text": [
      "INFO:tensorflow:Assets written to: best_autoencoderCNN\\assets\n"
     ]
    },
    {
     "name": "stdout",
     "output_type": "stream",
     "text": [
      "235/235 [==============================] - 14s 62ms/step - loss: 0.0926 - val_loss: 0.0914\n",
      "Epoch 11/100\n",
      "234/235 [============================>.] - ETA: 0s - loss: 0.0925\n",
      "Epoch 11: val_loss did not improve from 0.09143\n",
      "235/235 [==============================] - 13s 57ms/step - loss: 0.0925 - val_loss: 0.0915\n",
      "Epoch 12/100\n",
      "234/235 [============================>.] - ETA: 0s - loss: 0.0924\n",
      "Epoch 12: val_loss did not improve from 0.09143\n",
      "235/235 [==============================] - 13s 54ms/step - loss: 0.0924 - val_loss: 0.0915\n",
      "Epoch 13/100\n",
      "234/235 [============================>.] - ETA: 0s - loss: 0.0924\n",
      "Epoch 13: val_loss did not improve from 0.09143\n",
      "235/235 [==============================] - 12s 53ms/step - loss: 0.0924 - val_loss: 0.0914\n",
      "Epoch 14/100\n",
      "234/235 [============================>.] - ETA: 0s - loss: 0.0922\n",
      "Epoch 14: val_loss improved from 0.09143 to 0.09126, saving model to best_autoencoderCNN\n",
      "INFO:tensorflow:Assets written to: best_autoencoderCNN\\assets\n"
     ]
    },
    {
     "name": "stderr",
     "output_type": "stream",
     "text": [
      "INFO:tensorflow:Assets written to: best_autoencoderCNN\\assets\n"
     ]
    },
    {
     "name": "stdout",
     "output_type": "stream",
     "text": [
      "235/235 [==============================] - 13s 56ms/step - loss: 0.0922 - val_loss: 0.0913\n",
      "Epoch 15/100\n",
      "234/235 [============================>.] - ETA: 0s - loss: 0.0921\n",
      "Epoch 15: val_loss improved from 0.09126 to 0.09105, saving model to best_autoencoderCNN\n",
      "INFO:tensorflow:Assets written to: best_autoencoderCNN\\assets\n"
     ]
    },
    {
     "name": "stderr",
     "output_type": "stream",
     "text": [
      "INFO:tensorflow:Assets written to: best_autoencoderCNN\\assets\n"
     ]
    },
    {
     "name": "stdout",
     "output_type": "stream",
     "text": [
      "235/235 [==============================] - 13s 57ms/step - loss: 0.0921 - val_loss: 0.0910\n",
      "Epoch 16/100\n",
      "234/235 [============================>.] - ETA: 0s - loss: 0.0920\n",
      "Epoch 16: val_loss did not improve from 0.09105\n",
      "235/235 [==============================] - 13s 55ms/step - loss: 0.0920 - val_loss: 0.0915\n",
      "Epoch 17/100\n",
      "234/235 [============================>.] - ETA: 0s - loss: 0.0920\n",
      "Epoch 17: val_loss improved from 0.09105 to 0.09101, saving model to best_autoencoderCNN\n",
      "INFO:tensorflow:Assets written to: best_autoencoderCNN\\assets\n"
     ]
    },
    {
     "name": "stderr",
     "output_type": "stream",
     "text": [
      "INFO:tensorflow:Assets written to: best_autoencoderCNN\\assets\n"
     ]
    },
    {
     "name": "stdout",
     "output_type": "stream",
     "text": [
      "235/235 [==============================] - 14s 60ms/step - loss: 0.0920 - val_loss: 0.0910\n",
      "Epoch 18/100\n",
      "234/235 [============================>.] - ETA: 0s - loss: 0.0920\n",
      "Epoch 18: val_loss did not improve from 0.09101\n",
      "235/235 [==============================] - 14s 59ms/step - loss: 0.0920 - val_loss: 0.0915\n",
      "Epoch 19/100\n",
      "234/235 [============================>.] - ETA: 0s - loss: 0.0918\n",
      "Epoch 19: val_loss did not improve from 0.09101\n",
      "235/235 [==============================] - 13s 53ms/step - loss: 0.0918 - val_loss: 0.0911\n",
      "Epoch 20/100\n",
      "234/235 [============================>.] - ETA: 0s - loss: 0.0917\n",
      "Epoch 20: val_loss improved from 0.09101 to 0.09077, saving model to best_autoencoderCNN\n",
      "INFO:tensorflow:Assets written to: best_autoencoderCNN\\assets\n"
     ]
    },
    {
     "name": "stderr",
     "output_type": "stream",
     "text": [
      "INFO:tensorflow:Assets written to: best_autoencoderCNN\\assets\n"
     ]
    },
    {
     "name": "stdout",
     "output_type": "stream",
     "text": [
      "235/235 [==============================] - 14s 58ms/step - loss: 0.0917 - val_loss: 0.0908\n",
      "Epoch 21/100\n",
      "234/235 [============================>.] - ETA: 0s - loss: 0.0917\n",
      "Epoch 21: val_loss improved from 0.09077 to 0.09063, saving model to best_autoencoderCNN\n",
      "INFO:tensorflow:Assets written to: best_autoencoderCNN\\assets\n"
     ]
    },
    {
     "name": "stderr",
     "output_type": "stream",
     "text": [
      "INFO:tensorflow:Assets written to: best_autoencoderCNN\\assets\n"
     ]
    },
    {
     "name": "stdout",
     "output_type": "stream",
     "text": [
      "235/235 [==============================] - 14s 59ms/step - loss: 0.0917 - val_loss: 0.0906\n",
      "Epoch 22/100\n",
      "234/235 [============================>.] - ETA: 0s - loss: 0.0916\n",
      "Epoch 22: val_loss did not improve from 0.09063\n",
      "235/235 [==============================] - 13s 57ms/step - loss: 0.0916 - val_loss: 0.0906\n",
      "Epoch 23/100\n",
      "234/235 [============================>.] - ETA: 0s - loss: 0.0915\n",
      "Epoch 23: val_loss improved from 0.09063 to 0.09059, saving model to best_autoencoderCNN\n",
      "INFO:tensorflow:Assets written to: best_autoencoderCNN\\assets\n"
     ]
    },
    {
     "name": "stderr",
     "output_type": "stream",
     "text": [
      "INFO:tensorflow:Assets written to: best_autoencoderCNN\\assets\n"
     ]
    },
    {
     "name": "stdout",
     "output_type": "stream",
     "text": [
      "235/235 [==============================] - 14s 59ms/step - loss: 0.0915 - val_loss: 0.0906\n",
      "Epoch 24/100\n",
      "234/235 [============================>.] - ETA: 0s - loss: 0.0915\n",
      "Epoch 24: val_loss improved from 0.09059 to 0.09037, saving model to best_autoencoderCNN\n",
      "INFO:tensorflow:Assets written to: best_autoencoderCNN\\assets\n"
     ]
    },
    {
     "name": "stderr",
     "output_type": "stream",
     "text": [
      "INFO:tensorflow:Assets written to: best_autoencoderCNN\\assets\n"
     ]
    },
    {
     "name": "stdout",
     "output_type": "stream",
     "text": [
      "235/235 [==============================] - 14s 60ms/step - loss: 0.0915 - val_loss: 0.0904\n",
      "Epoch 25/100\n",
      "234/235 [============================>.] - ETA: 0s - loss: 0.0913\n",
      "Epoch 25: val_loss did not improve from 0.09037\n",
      "235/235 [==============================] - 14s 59ms/step - loss: 0.0913 - val_loss: 0.0905\n",
      "Epoch 26/100\n",
      "234/235 [============================>.] - ETA: 0s - loss: 0.0913\n",
      "Epoch 26: val_loss improved from 0.09037 to 0.09027, saving model to best_autoencoderCNN\n",
      "INFO:tensorflow:Assets written to: best_autoencoderCNN\\assets\n"
     ]
    },
    {
     "name": "stderr",
     "output_type": "stream",
     "text": [
      "INFO:tensorflow:Assets written to: best_autoencoderCNN\\assets\n"
     ]
    },
    {
     "name": "stdout",
     "output_type": "stream",
     "text": [
      "235/235 [==============================] - 14s 61ms/step - loss: 0.0913 - val_loss: 0.0903\n",
      "Epoch 27/100\n",
      "234/235 [============================>.] - ETA: 0s - loss: 0.0912\n",
      "Epoch 27: val_loss did not improve from 0.09027\n",
      "235/235 [==============================] - 14s 60ms/step - loss: 0.0912 - val_loss: 0.0906\n",
      "Epoch 28/100\n",
      "234/235 [============================>.] - ETA: 0s - loss: 0.0912\n",
      "Epoch 28: val_loss improved from 0.09027 to 0.08994, saving model to best_autoencoderCNN\n",
      "INFO:tensorflow:Assets written to: best_autoencoderCNN\\assets\n"
     ]
    },
    {
     "name": "stderr",
     "output_type": "stream",
     "text": [
      "INFO:tensorflow:Assets written to: best_autoencoderCNN\\assets\n"
     ]
    },
    {
     "name": "stdout",
     "output_type": "stream",
     "text": [
      "235/235 [==============================] - 14s 59ms/step - loss: 0.0912 - val_loss: 0.0899\n",
      "Epoch 29/100\n",
      "234/235 [============================>.] - ETA: 0s - loss: 0.0911\n",
      "Epoch 29: val_loss did not improve from 0.08994\n",
      "235/235 [==============================] - 13s 57ms/step - loss: 0.0911 - val_loss: 0.0903\n",
      "Epoch 30/100\n",
      "234/235 [============================>.] - ETA: 0s - loss: 0.0910\n",
      "Epoch 30: val_loss improved from 0.08994 to 0.08991, saving model to best_autoencoderCNN\n",
      "INFO:tensorflow:Assets written to: best_autoencoderCNN\\assets\n"
     ]
    },
    {
     "name": "stderr",
     "output_type": "stream",
     "text": [
      "INFO:tensorflow:Assets written to: best_autoencoderCNN\\assets\n"
     ]
    },
    {
     "name": "stdout",
     "output_type": "stream",
     "text": [
      "235/235 [==============================] - 14s 60ms/step - loss: 0.0910 - val_loss: 0.0899\n",
      "Epoch 31/100\n",
      "234/235 [============================>.] - ETA: 0s - loss: 0.0910\n",
      "Epoch 31: val_loss did not improve from 0.08991\n",
      "235/235 [==============================] - 14s 60ms/step - loss: 0.0910 - val_loss: 0.0903\n",
      "Epoch 32/100\n",
      "234/235 [============================>.] - ETA: 0s - loss: 0.0908\n",
      "Epoch 32: val_loss improved from 0.08991 to 0.08981, saving model to best_autoencoderCNN\n",
      "INFO:tensorflow:Assets written to: best_autoencoderCNN\\assets\n"
     ]
    },
    {
     "name": "stderr",
     "output_type": "stream",
     "text": [
      "INFO:tensorflow:Assets written to: best_autoencoderCNN\\assets\n"
     ]
    },
    {
     "name": "stdout",
     "output_type": "stream",
     "text": [
      "235/235 [==============================] - 14s 60ms/step - loss: 0.0909 - val_loss: 0.0898\n",
      "Epoch 33/100\n",
      "234/235 [============================>.] - ETA: 0s - loss: 0.0908\n",
      "Epoch 33: val_loss did not improve from 0.08981\n",
      "235/235 [==============================] - 13s 57ms/step - loss: 0.0908 - val_loss: 0.0907\n",
      "Epoch 34/100\n",
      "234/235 [============================>.] - ETA: 0s - loss: 0.0908\n",
      "Epoch 34: val_loss did not improve from 0.08981\n",
      "235/235 [==============================] - 13s 56ms/step - loss: 0.0908 - val_loss: 0.0899\n",
      "Epoch 35/100\n",
      "234/235 [============================>.] - ETA: 0s - loss: 0.0907\n",
      "Epoch 35: val_loss improved from 0.08981 to 0.08975, saving model to best_autoencoderCNN\n",
      "INFO:tensorflow:Assets written to: best_autoencoderCNN\\assets\n"
     ]
    },
    {
     "name": "stderr",
     "output_type": "stream",
     "text": [
      "INFO:tensorflow:Assets written to: best_autoencoderCNN\\assets\n"
     ]
    },
    {
     "name": "stdout",
     "output_type": "stream",
     "text": [
      "235/235 [==============================] - 14s 59ms/step - loss: 0.0907 - val_loss: 0.0897\n",
      "Epoch 36/100\n",
      "234/235 [============================>.] - ETA: 0s - loss: 0.0906\n",
      "Epoch 36: val_loss improved from 0.08975 to 0.08963, saving model to best_autoencoderCNN\n",
      "INFO:tensorflow:Assets written to: best_autoencoderCNN\\assets\n"
     ]
    },
    {
     "name": "stderr",
     "output_type": "stream",
     "text": [
      "INFO:tensorflow:Assets written to: best_autoencoderCNN\\assets\n"
     ]
    },
    {
     "name": "stdout",
     "output_type": "stream",
     "text": [
      "235/235 [==============================] - 14s 58ms/step - loss: 0.0906 - val_loss: 0.0896\n",
      "Epoch 37/100\n",
      "234/235 [============================>.] - ETA: 0s - loss: 0.0906\n",
      "Epoch 37: val_loss improved from 0.08963 to 0.08961, saving model to best_autoencoderCNN\n",
      "INFO:tensorflow:Assets written to: best_autoencoderCNN\\assets\n"
     ]
    },
    {
     "name": "stderr",
     "output_type": "stream",
     "text": [
      "INFO:tensorflow:Assets written to: best_autoencoderCNN\\assets\n"
     ]
    },
    {
     "name": "stdout",
     "output_type": "stream",
     "text": [
      "235/235 [==============================] - 14s 58ms/step - loss: 0.0906 - val_loss: 0.0896\n",
      "Epoch 38/100\n",
      "234/235 [============================>.] - ETA: 0s - loss: 0.0906\n",
      "Epoch 38: val_loss improved from 0.08961 to 0.08947, saving model to best_autoencoderCNN\n",
      "INFO:tensorflow:Assets written to: best_autoencoderCNN\\assets\n"
     ]
    },
    {
     "name": "stderr",
     "output_type": "stream",
     "text": [
      "INFO:tensorflow:Assets written to: best_autoencoderCNN\\assets\n"
     ]
    },
    {
     "name": "stdout",
     "output_type": "stream",
     "text": [
      "235/235 [==============================] - 14s 61ms/step - loss: 0.0906 - val_loss: 0.0895\n",
      "Epoch 39/100\n",
      "234/235 [============================>.] - ETA: 0s - loss: 0.0905\n",
      "Epoch 39: val_loss did not improve from 0.08947\n",
      "235/235 [==============================] - 13s 57ms/step - loss: 0.0905 - val_loss: 0.0895\n",
      "Epoch 40/100\n",
      "234/235 [============================>.] - ETA: 0s - loss: 0.0905\n",
      "Epoch 40: val_loss did not improve from 0.08947\n",
      "235/235 [==============================] - 13s 57ms/step - loss: 0.0905 - val_loss: 0.0896\n",
      "Epoch 41/100\n",
      "234/235 [============================>.] - ETA: 0s - loss: 0.0904\n",
      "Epoch 41: val_loss improved from 0.08947 to 0.08925, saving model to best_autoencoderCNN\n",
      "INFO:tensorflow:Assets written to: best_autoencoderCNN\\assets\n"
     ]
    },
    {
     "name": "stderr",
     "output_type": "stream",
     "text": [
      "INFO:tensorflow:Assets written to: best_autoencoderCNN\\assets\n"
     ]
    },
    {
     "name": "stdout",
     "output_type": "stream",
     "text": [
      "235/235 [==============================] - 14s 59ms/step - loss: 0.0904 - val_loss: 0.0892\n",
      "Epoch 42/100\n",
      "234/235 [============================>.] - ETA: 0s - loss: 0.0903\n",
      "Epoch 42: val_loss did not improve from 0.08925\n",
      "235/235 [==============================] - 13s 57ms/step - loss: 0.0903 - val_loss: 0.0896\n",
      "Epoch 43/100\n",
      "234/235 [============================>.] - ETA: 0s - loss: 0.0903\n",
      "Epoch 43: val_loss did not improve from 0.08925\n",
      "235/235 [==============================] - 14s 57ms/step - loss: 0.0903 - val_loss: 0.0894\n",
      "Epoch 44/100\n",
      "234/235 [============================>.] - ETA: 0s - loss: 0.0903\n",
      "Epoch 44: val_loss did not improve from 0.08925\n",
      "235/235 [==============================] - 13s 57ms/step - loss: 0.0903 - val_loss: 0.0896\n",
      "Epoch 45/100\n",
      "234/235 [============================>.] - ETA: 0s - loss: 0.0902\n",
      "Epoch 45: val_loss did not improve from 0.08925\n",
      "235/235 [==============================] - 13s 57ms/step - loss: 0.0902 - val_loss: 0.0894\n",
      "Epoch 46/100\n",
      "234/235 [============================>.] - ETA: 0s - loss: 0.0901\n",
      "Epoch 46: val_loss improved from 0.08925 to 0.08914, saving model to best_autoencoderCNN\n",
      "INFO:tensorflow:Assets written to: best_autoencoderCNN\\assets\n"
     ]
    },
    {
     "name": "stderr",
     "output_type": "stream",
     "text": [
      "INFO:tensorflow:Assets written to: best_autoencoderCNN\\assets\n"
     ]
    },
    {
     "name": "stdout",
     "output_type": "stream",
     "text": [
      "235/235 [==============================] - 14s 59ms/step - loss: 0.0901 - val_loss: 0.0891\n",
      "Epoch 47/100\n",
      "234/235 [============================>.] - ETA: 0s - loss: 0.0901\n",
      "Epoch 47: val_loss did not improve from 0.08914\n",
      "235/235 [==============================] - 13s 57ms/step - loss: 0.0900 - val_loss: 0.0892\n",
      "Epoch 48/100\n",
      "234/235 [============================>.] - ETA: 0s - loss: 0.0901\n",
      "Epoch 48: val_loss improved from 0.08914 to 0.08899, saving model to best_autoencoderCNN\n",
      "INFO:tensorflow:Assets written to: best_autoencoderCNN\\assets\n"
     ]
    },
    {
     "name": "stderr",
     "output_type": "stream",
     "text": [
      "INFO:tensorflow:Assets written to: best_autoencoderCNN\\assets\n"
     ]
    },
    {
     "name": "stdout",
     "output_type": "stream",
     "text": [
      "235/235 [==============================] - 14s 59ms/step - loss: 0.0901 - val_loss: 0.0890\n",
      "Epoch 49/100\n",
      "234/235 [============================>.] - ETA: 0s - loss: 0.0900\n",
      "Epoch 49: val_loss did not improve from 0.08899\n",
      "235/235 [==============================] - 13s 57ms/step - loss: 0.0900 - val_loss: 0.0890\n",
      "Epoch 50/100\n",
      "234/235 [============================>.] - ETA: 0s - loss: 0.0899\n",
      "Epoch 50: val_loss improved from 0.08899 to 0.08890, saving model to best_autoencoderCNN\n",
      "INFO:tensorflow:Assets written to: best_autoencoderCNN\\assets\n"
     ]
    },
    {
     "name": "stderr",
     "output_type": "stream",
     "text": [
      "INFO:tensorflow:Assets written to: best_autoencoderCNN\\assets\n"
     ]
    },
    {
     "name": "stdout",
     "output_type": "stream",
     "text": [
      "235/235 [==============================] - 14s 59ms/step - loss: 0.0899 - val_loss: 0.0889\n",
      "Epoch 51/100\n",
      "234/235 [============================>.] - ETA: 0s - loss: 0.0899\n",
      "Epoch 51: val_loss did not improve from 0.08890\n",
      "235/235 [==============================] - 14s 59ms/step - loss: 0.0899 - val_loss: 0.0890\n",
      "Epoch 52/100\n",
      "234/235 [============================>.] - ETA: 0s - loss: 0.0899\n",
      "Epoch 52: val_loss improved from 0.08890 to 0.08886, saving model to best_autoencoderCNN\n",
      "INFO:tensorflow:Assets written to: best_autoencoderCNN\\assets\n"
     ]
    },
    {
     "name": "stderr",
     "output_type": "stream",
     "text": [
      "INFO:tensorflow:Assets written to: best_autoencoderCNN\\assets\n"
     ]
    },
    {
     "name": "stdout",
     "output_type": "stream",
     "text": [
      "235/235 [==============================] - 14s 61ms/step - loss: 0.0899 - val_loss: 0.0889\n",
      "Epoch 53/100\n",
      "234/235 [============================>.] - ETA: 0s - loss: 0.0898\n",
      "Epoch 53: val_loss did not improve from 0.08886\n",
      "235/235 [==============================] - 14s 58ms/step - loss: 0.0898 - val_loss: 0.0889\n",
      "Epoch 54/100\n",
      "234/235 [============================>.] - ETA: 0s - loss: 0.0898\n",
      "Epoch 54: val_loss improved from 0.08886 to 0.08883, saving model to best_autoencoderCNN\n",
      "INFO:tensorflow:Assets written to: best_autoencoderCNN\\assets\n"
     ]
    },
    {
     "name": "stderr",
     "output_type": "stream",
     "text": [
      "INFO:tensorflow:Assets written to: best_autoencoderCNN\\assets\n"
     ]
    },
    {
     "name": "stdout",
     "output_type": "stream",
     "text": [
      "235/235 [==============================] - 14s 61ms/step - loss: 0.0898 - val_loss: 0.0888\n",
      "Epoch 55/100\n",
      "234/235 [============================>.] - ETA: 0s - loss: 0.0897\n",
      "Epoch 55: val_loss improved from 0.08883 to 0.08867, saving model to best_autoencoderCNN\n",
      "INFO:tensorflow:Assets written to: best_autoencoderCNN\\assets\n"
     ]
    },
    {
     "name": "stderr",
     "output_type": "stream",
     "text": [
      "INFO:tensorflow:Assets written to: best_autoencoderCNN\\assets\n"
     ]
    },
    {
     "name": "stdout",
     "output_type": "stream",
     "text": [
      "235/235 [==============================] - 14s 60ms/step - loss: 0.0897 - val_loss: 0.0887\n",
      "Epoch 56/100\n",
      "234/235 [============================>.] - ETA: 0s - loss: 0.0897\n",
      "Epoch 56: val_loss did not improve from 0.08867\n",
      "235/235 [==============================] - 14s 57ms/step - loss: 0.0897 - val_loss: 0.0891\n",
      "Epoch 57/100\n",
      "234/235 [============================>.] - ETA: 0s - loss: 0.0896\n",
      "Epoch 57: val_loss did not improve from 0.08867\n",
      "235/235 [==============================] - 13s 56ms/step - loss: 0.0896 - val_loss: 0.0890\n",
      "Epoch 58/100\n",
      "234/235 [============================>.] - ETA: 0s - loss: 0.0897\n",
      "Epoch 58: val_loss did not improve from 0.08867\n",
      "235/235 [==============================] - 13s 57ms/step - loss: 0.0897 - val_loss: 0.0888\n",
      "Epoch 59/100\n",
      "234/235 [============================>.] - ETA: 0s - loss: 0.0896\n",
      "Epoch 59: val_loss improved from 0.08867 to 0.08856, saving model to best_autoencoderCNN\n",
      "INFO:tensorflow:Assets written to: best_autoencoderCNN\\assets\n"
     ]
    },
    {
     "name": "stderr",
     "output_type": "stream",
     "text": [
      "INFO:tensorflow:Assets written to: best_autoencoderCNN\\assets\n"
     ]
    },
    {
     "name": "stdout",
     "output_type": "stream",
     "text": [
      "235/235 [==============================] - 14s 59ms/step - loss: 0.0896 - val_loss: 0.0886\n",
      "Epoch 60/100\n",
      "234/235 [============================>.] - ETA: 0s - loss: 0.0895\n",
      "Epoch 60: val_loss did not improve from 0.08856\n",
      "235/235 [==============================] - 13s 57ms/step - loss: 0.0895 - val_loss: 0.0888\n",
      "Epoch 61/100\n",
      "234/235 [============================>.] - ETA: 0s - loss: 0.0895\n",
      "Epoch 61: val_loss did not improve from 0.08856\n",
      "235/235 [==============================] - 13s 57ms/step - loss: 0.0895 - val_loss: 0.0886\n",
      "Epoch 62/100\n",
      "234/235 [============================>.] - ETA: 0s - loss: 0.0895\n",
      "Epoch 62: val_loss did not improve from 0.08856\n",
      "235/235 [==============================] - 13s 56ms/step - loss: 0.0895 - val_loss: 0.0886\n",
      "Epoch 63/100\n",
      "234/235 [============================>.] - ETA: 0s - loss: 0.0895\n",
      "Epoch 63: val_loss did not improve from 0.08856\n",
      "235/235 [==============================] - 13s 56ms/step - loss: 0.0895 - val_loss: 0.0886\n",
      "Epoch 64/100\n",
      "234/235 [============================>.] - ETA: 0s - loss: 0.0894\n",
      "Epoch 64: val_loss improved from 0.08856 to 0.08856, saving model to best_autoencoderCNN\n",
      "INFO:tensorflow:Assets written to: best_autoencoderCNN\\assets\n"
     ]
    },
    {
     "name": "stderr",
     "output_type": "stream",
     "text": [
      "INFO:tensorflow:Assets written to: best_autoencoderCNN\\assets\n"
     ]
    },
    {
     "name": "stdout",
     "output_type": "stream",
     "text": [
      "235/235 [==============================] - 14s 59ms/step - loss: 0.0894 - val_loss: 0.0886\n",
      "Epoch 65/100\n",
      "234/235 [============================>.] - ETA: 0s - loss: 0.0893\n",
      "Epoch 65: val_loss improved from 0.08856 to 0.08822, saving model to best_autoencoderCNN\n",
      "INFO:tensorflow:Assets written to: best_autoencoderCNN\\assets\n"
     ]
    },
    {
     "name": "stderr",
     "output_type": "stream",
     "text": [
      "INFO:tensorflow:Assets written to: best_autoencoderCNN\\assets\n"
     ]
    },
    {
     "name": "stdout",
     "output_type": "stream",
     "text": [
      "235/235 [==============================] - 14s 61ms/step - loss: 0.0893 - val_loss: 0.0882\n",
      "Epoch 66/100\n",
      "234/235 [============================>.] - ETA: 0s - loss: 0.0894\n",
      "Epoch 66: val_loss did not improve from 0.08822\n",
      "235/235 [==============================] - 13s 57ms/step - loss: 0.0894 - val_loss: 0.0883\n",
      "Epoch 67/100\n",
      "234/235 [============================>.] - ETA: 0s - loss: 0.0893\n",
      "Epoch 67: val_loss did not improve from 0.08822\n",
      "235/235 [==============================] - 14s 58ms/step - loss: 0.0893 - val_loss: 0.0883\n",
      "Epoch 68/100\n",
      "234/235 [============================>.] - ETA: 0s - loss: 0.0893\n",
      "Epoch 68: val_loss improved from 0.08822 to 0.08815, saving model to best_autoencoderCNN\n",
      "INFO:tensorflow:Assets written to: best_autoencoderCNN\\assets\n"
     ]
    },
    {
     "name": "stderr",
     "output_type": "stream",
     "text": [
      "INFO:tensorflow:Assets written to: best_autoencoderCNN\\assets\n"
     ]
    },
    {
     "name": "stdout",
     "output_type": "stream",
     "text": [
      "235/235 [==============================] - 14s 59ms/step - loss: 0.0893 - val_loss: 0.0882\n",
      "Epoch 69/100\n",
      "234/235 [============================>.] - ETA: 0s - loss: 0.0892\n",
      "Epoch 69: val_loss did not improve from 0.08815\n",
      "235/235 [==============================] - 14s 58ms/step - loss: 0.0892 - val_loss: 0.0882\n",
      "Epoch 70/100\n",
      "234/235 [============================>.] - ETA: 0s - loss: 0.0892\n",
      "Epoch 70: val_loss did not improve from 0.08815\n",
      "235/235 [==============================] - 14s 58ms/step - loss: 0.0892 - val_loss: 0.0883\n",
      "Epoch 71/100\n",
      "234/235 [============================>.] - ETA: 0s - loss: 0.0891\n",
      "Epoch 71: val_loss did not improve from 0.08815\n",
      "235/235 [==============================] - 13s 57ms/step - loss: 0.0891 - val_loss: 0.0884\n",
      "Epoch 72/100\n",
      "234/235 [============================>.] - ETA: 0s - loss: 0.0892\n",
      "Epoch 72: val_loss did not improve from 0.08815\n",
      "235/235 [==============================] - 14s 58ms/step - loss: 0.0892 - val_loss: 0.0882\n",
      "Epoch 73/100\n",
      "234/235 [============================>.] - ETA: 0s - loss: 0.0890\n",
      "Epoch 73: val_loss did not improve from 0.08815\n",
      "235/235 [==============================] - 13s 57ms/step - loss: 0.0890 - val_loss: 0.0883\n",
      "Epoch 74/100\n",
      "234/235 [============================>.] - ETA: 0s - loss: 0.0891\n",
      "Epoch 74: val_loss improved from 0.08815 to 0.08796, saving model to best_autoencoderCNN\n",
      "INFO:tensorflow:Assets written to: best_autoencoderCNN\\assets\n"
     ]
    },
    {
     "name": "stderr",
     "output_type": "stream",
     "text": [
      "INFO:tensorflow:Assets written to: best_autoencoderCNN\\assets\n"
     ]
    },
    {
     "name": "stdout",
     "output_type": "stream",
     "text": [
      "235/235 [==============================] - 14s 60ms/step - loss: 0.0891 - val_loss: 0.0880\n",
      "Epoch 75/100\n",
      "234/235 [============================>.] - ETA: 0s - loss: 0.0890\n",
      "Epoch 75: val_loss did not improve from 0.08796\n",
      "235/235 [==============================] - 14s 58ms/step - loss: 0.0890 - val_loss: 0.0882\n",
      "Epoch 76/100\n",
      "234/235 [============================>.] - ETA: 0s - loss: 0.0889\n",
      "Epoch 76: val_loss improved from 0.08796 to 0.08792, saving model to best_autoencoderCNN\n",
      "INFO:tensorflow:Assets written to: best_autoencoderCNN\\assets\n"
     ]
    },
    {
     "name": "stderr",
     "output_type": "stream",
     "text": [
      "INFO:tensorflow:Assets written to: best_autoencoderCNN\\assets\n"
     ]
    },
    {
     "name": "stdout",
     "output_type": "stream",
     "text": [
      "235/235 [==============================] - 14s 59ms/step - loss: 0.0889 - val_loss: 0.0879\n",
      "Epoch 77/100\n",
      "234/235 [============================>.] - ETA: 0s - loss: 0.0890\n",
      "Epoch 77: val_loss improved from 0.08792 to 0.08787, saving model to best_autoencoderCNN\n",
      "INFO:tensorflow:Assets written to: best_autoencoderCNN\\assets\n"
     ]
    },
    {
     "name": "stderr",
     "output_type": "stream",
     "text": [
      "INFO:tensorflow:Assets written to: best_autoencoderCNN\\assets\n"
     ]
    },
    {
     "name": "stdout",
     "output_type": "stream",
     "text": [
      "235/235 [==============================] - 14s 59ms/step - loss: 0.0890 - val_loss: 0.0879\n",
      "Epoch 78/100\n",
      "234/235 [============================>.] - ETA: 0s - loss: 0.0889\n",
      "Epoch 78: val_loss did not improve from 0.08787\n",
      "235/235 [==============================] - 14s 59ms/step - loss: 0.0889 - val_loss: 0.0881\n",
      "Epoch 79/100\n",
      "234/235 [============================>.] - ETA: 0s - loss: 0.0888\n",
      "Epoch 79: val_loss did not improve from 0.08787\n",
      "235/235 [==============================] - 14s 59ms/step - loss: 0.0889 - val_loss: 0.0879\n",
      "Epoch 80/100\n",
      "234/235 [============================>.] - ETA: 0s - loss: 0.0889\n",
      "Epoch 80: val_loss improved from 0.08787 to 0.08781, saving model to best_autoencoderCNN\n",
      "INFO:tensorflow:Assets written to: best_autoencoderCNN\\assets\n"
     ]
    },
    {
     "name": "stderr",
     "output_type": "stream",
     "text": [
      "INFO:tensorflow:Assets written to: best_autoencoderCNN\\assets\n"
     ]
    },
    {
     "name": "stdout",
     "output_type": "stream",
     "text": [
      "235/235 [==============================] - 14s 61ms/step - loss: 0.0889 - val_loss: 0.0878\n",
      "Epoch 81/100\n",
      "234/235 [============================>.] - ETA: 0s - loss: 0.0888\n",
      "Epoch 81: val_loss did not improve from 0.08781\n",
      "235/235 [==============================] - 14s 58ms/step - loss: 0.0888 - val_loss: 0.0878\n",
      "Epoch 82/100\n",
      "234/235 [============================>.] - ETA: 0s - loss: 0.0888\n",
      "Epoch 82: val_loss did not improve from 0.08781\n",
      "235/235 [==============================] - 13s 57ms/step - loss: 0.0888 - val_loss: 0.0879\n",
      "Epoch 83/100\n",
      "234/235 [============================>.] - ETA: 0s - loss: 0.0887\n",
      "Epoch 83: val_loss did not improve from 0.08781\n",
      "235/235 [==============================] - 13s 57ms/step - loss: 0.0887 - val_loss: 0.0883\n",
      "Epoch 84/100\n",
      "234/235 [============================>.] - ETA: 0s - loss: 0.0888\n",
      "Epoch 84: val_loss improved from 0.08781 to 0.08776, saving model to best_autoencoderCNN\n",
      "INFO:tensorflow:Assets written to: best_autoencoderCNN\\assets\n"
     ]
    },
    {
     "name": "stderr",
     "output_type": "stream",
     "text": [
      "INFO:tensorflow:Assets written to: best_autoencoderCNN\\assets\n"
     ]
    },
    {
     "name": "stdout",
     "output_type": "stream",
     "text": [
      "235/235 [==============================] - 14s 60ms/step - loss: 0.0888 - val_loss: 0.0878\n",
      "Epoch 85/100\n",
      "234/235 [============================>.] - ETA: 0s - loss: 0.0887\n",
      "Epoch 85: val_loss did not improve from 0.08776\n",
      "235/235 [==============================] - 13s 57ms/step - loss: 0.0887 - val_loss: 0.0879\n",
      "Epoch 86/100\n",
      "234/235 [============================>.] - ETA: 0s - loss: 0.0887\n",
      "Epoch 86: val_loss improved from 0.08776 to 0.08770, saving model to best_autoencoderCNN\n",
      "INFO:tensorflow:Assets written to: best_autoencoderCNN\\assets\n"
     ]
    },
    {
     "name": "stderr",
     "output_type": "stream",
     "text": [
      "INFO:tensorflow:Assets written to: best_autoencoderCNN\\assets\n"
     ]
    },
    {
     "name": "stdout",
     "output_type": "stream",
     "text": [
      "235/235 [==============================] - 14s 60ms/step - loss: 0.0887 - val_loss: 0.0877\n",
      "Epoch 87/100\n",
      "234/235 [============================>.] - ETA: 0s - loss: 0.0886\n",
      "Epoch 87: val_loss did not improve from 0.08770\n",
      "235/235 [==============================] - 14s 59ms/step - loss: 0.0886 - val_loss: 0.0886\n",
      "Epoch 88/100\n",
      "234/235 [============================>.] - ETA: 0s - loss: 0.0886\n",
      "Epoch 88: val_loss did not improve from 0.08770\n",
      "235/235 [==============================] - 14s 58ms/step - loss: 0.0886 - val_loss: 0.0879\n",
      "Epoch 89/100\n",
      "234/235 [============================>.] - ETA: 0s - loss: 0.0886\n",
      "Epoch 89: val_loss improved from 0.08770 to 0.08763, saving model to best_autoencoderCNN\n",
      "INFO:tensorflow:Assets written to: best_autoencoderCNN\\assets\n"
     ]
    },
    {
     "name": "stderr",
     "output_type": "stream",
     "text": [
      "INFO:tensorflow:Assets written to: best_autoencoderCNN\\assets\n"
     ]
    },
    {
     "name": "stdout",
     "output_type": "stream",
     "text": [
      "235/235 [==============================] - 14s 61ms/step - loss: 0.0886 - val_loss: 0.0876\n",
      "Epoch 90/100\n",
      "234/235 [============================>.] - ETA: 0s - loss: 0.0885\n",
      "Epoch 90: val_loss did not improve from 0.08763\n",
      "235/235 [==============================] - 13s 57ms/step - loss: 0.0885 - val_loss: 0.0879\n",
      "Epoch 91/100\n",
      "234/235 [============================>.] - ETA: 0s - loss: 0.0885\n",
      "Epoch 91: val_loss did not improve from 0.08763\n",
      "235/235 [==============================] - 14s 58ms/step - loss: 0.0885 - val_loss: 0.0881\n",
      "Epoch 92/100\n",
      "234/235 [============================>.] - ETA: 0s - loss: 0.0885\n",
      "Epoch 92: val_loss did not improve from 0.08763\n",
      "235/235 [==============================] - 13s 56ms/step - loss: 0.0885 - val_loss: 0.0880\n",
      "Epoch 93/100\n",
      "234/235 [============================>.] - ETA: 0s - loss: 0.0885\n",
      "Epoch 93: val_loss improved from 0.08763 to 0.08743, saving model to best_autoencoderCNN\n",
      "INFO:tensorflow:Assets written to: best_autoencoderCNN\\assets\n"
     ]
    },
    {
     "name": "stderr",
     "output_type": "stream",
     "text": [
      "INFO:tensorflow:Assets written to: best_autoencoderCNN\\assets\n"
     ]
    },
    {
     "name": "stdout",
     "output_type": "stream",
     "text": [
      "235/235 [==============================] - 14s 60ms/step - loss: 0.0885 - val_loss: 0.0874\n",
      "Epoch 94/100\n",
      "234/235 [============================>.] - ETA: 0s - loss: 0.0884\n",
      "Epoch 94: val_loss did not improve from 0.08743\n",
      "235/235 [==============================] - 14s 58ms/step - loss: 0.0884 - val_loss: 0.0876\n",
      "Epoch 95/100\n",
      "234/235 [============================>.] - ETA: 0s - loss: 0.0884\n",
      "Epoch 95: val_loss did not improve from 0.08743\n",
      "235/235 [==============================] - 13s 57ms/step - loss: 0.0884 - val_loss: 0.0877\n",
      "Epoch 96/100\n",
      "234/235 [============================>.] - ETA: 0s - loss: 0.0885\n",
      "Epoch 96: val_loss improved from 0.08743 to 0.08735, saving model to best_autoencoderCNN\n",
      "INFO:tensorflow:Assets written to: best_autoencoderCNN\\assets\n"
     ]
    },
    {
     "name": "stderr",
     "output_type": "stream",
     "text": [
      "INFO:tensorflow:Assets written to: best_autoencoderCNN\\assets\n"
     ]
    },
    {
     "name": "stdout",
     "output_type": "stream",
     "text": [
      "235/235 [==============================] - 14s 59ms/step - loss: 0.0885 - val_loss: 0.0874\n",
      "Epoch 97/100\n",
      "235/235 [==============================] - ETA: 0s - loss: 0.0883\n",
      "Epoch 97: val_loss did not improve from 0.08735\n",
      "235/235 [==============================] - 14s 58ms/step - loss: 0.0883 - val_loss: 0.0875\n",
      "Epoch 98/100\n",
      "234/235 [============================>.] - ETA: 0s - loss: 0.0883\n",
      "Epoch 98: val_loss did not improve from 0.08735\n",
      "235/235 [==============================] - 13s 55ms/step - loss: 0.0883 - val_loss: 0.0874\n",
      "Epoch 99/100\n",
      "234/235 [============================>.] - ETA: 0s - loss: 0.0884\n",
      "Epoch 99: val_loss did not improve from 0.08735\n",
      "235/235 [==============================] - 13s 54ms/step - loss: 0.0884 - val_loss: 0.0874\n",
      "Epoch 100/100\n",
      "234/235 [============================>.] - ETA: 0s - loss: 0.0883\n",
      "Epoch 100: val_loss did not improve from 0.08735\n",
      "235/235 [==============================] - 13s 54ms/step - loss: 0.0883 - val_loss: 0.0875\n"
     ]
    },
    {
     "data": {
      "text/plain": [
       "Reusing TensorBoard on port 6006 (pid 35756), started 8:50:18 ago. (Use '!kill 35756' to kill it.)"
      ]
     },
     "metadata": {},
     "output_type": "display_data"
    },
    {
     "data": {
      "text/html": [
       "\n",
       "      <iframe id=\"tensorboard-frame-18ff75369a6b4473\" width=\"100%\" height=\"800\" frameborder=\"0\">\n",
       "      </iframe>\n",
       "      <script>\n",
       "        (function() {\n",
       "          const frame = document.getElementById(\"tensorboard-frame-18ff75369a6b4473\");\n",
       "          const url = new URL(\"http://localhost\");\n",
       "          const port = 6006;\n",
       "          if (port) {\n",
       "            url.port = port;\n",
       "          }\n",
       "          frame.src = url;\n",
       "        })();\n",
       "      </script>\n",
       "    "
      ],
      "text/plain": [
       "<IPython.core.display.HTML object>"
      ]
     },
     "metadata": {},
     "output_type": "display_data"
    }
   ],
   "source": [
    "import tensorflow as tf\n",
    "import shutil\n",
    "from keras.callbacks import ModelCheckpoint\n",
    "\n",
    "# Load the TensorBoard notebook extension\n",
    "%load_ext tensorboard\n",
    "\n",
    "# Clear any logs from previous runs\n",
    "\n",
    "# Mac/Linux\n",
    "# !rm -rf ./logs/\n",
    "\n",
    "# Windows\n",
    "shutil.rmtree(\"./logs\", ignore_errors=True)\n",
    "\n",
    "checkpointCNN = ModelCheckpoint(\"best_autoencoderCNN\", monitor='val_loss', verbose=1, save_best_only=True, mode='min')\n",
    "\n",
    "# Define the TensorBoard callback\n",
    "tensorboard_callback = tf.keras.callbacks.TensorBoard(log_dir=\"./logs\", histogram_freq=1)\n",
    "\n",
    "callbacks_list = [checkpointCNN, tensorboard_callback]\n",
    "\n",
    "\n",
    "# Add the TensorBoard callback to the fit method\n",
    "history = autoencoder.fit(x_train, x_train,\n",
    "                epochs=100,\n",
    "                batch_size=256,\n",
    "                shuffle=True,\n",
    "                validation_data=(x_test, x_test),\n",
    "                callbacks=callbacks_list) # added callback\n",
    "\n",
    "# Start TensorBoard\n",
    "%tensorboard --logdir logs\n"
   ]
  },
  {
   "cell_type": "code",
   "execution_count": 13,
   "metadata": {},
   "outputs": [
    {
     "name": "stdout",
     "output_type": "stream",
     "text": [
      "313/313 [==============================] - 1s 5ms/step\n"
     ]
    }
   ],
   "source": [
    "decoded_imgs = autoencoder.predict(x_test)"
   ]
  },
  {
   "cell_type": "code",
   "execution_count": 14,
   "metadata": {},
   "outputs": [
    {
     "data": {
      "image/png": "[encoded data removed]",
      "text/plain": [
       "<Figure size 2000x400 with 20 Axes>"
      ]
     },
     "metadata": {},
     "output_type": "display_data"
    }
   ],
   "source": [
    "import matplotlib.pyplot as plt\n",
    "n = 10\n",
    "plt.figure(figsize=(20, 4))\n",
    "for i in range(1, n + 1):\n",
    "    # Display original\n",
    "    ax = plt.subplot(2, n, i)\n",
    "    plt.imshow(x_test[i].reshape(28, 28))\n",
    "    plt.gray()\n",
    "    ax.get_xaxis().set_visible(False)\n",
    "    ax.get_yaxis().set_visible(False)\n",
    "\n",
    "    # Display reconstruction\n",
    "    ax = plt.subplot(2, n, i + n)\n",
    "    plt.imshow(decoded_imgs[i].reshape(28, 28))\n",
    "    plt.gray()\n",
    "    ax.get_xaxis().set_visible(False)\n",
    "    ax.get_yaxis().set_visible(False)\n",
    "plt.show()"
   ]
  },
  {
   "cell_type": "code",
   "execution_count": 15,
   "metadata": {},
   "outputs": [
    {
     "name": "stdout",
     "output_type": "stream",
     "text": [
      "313/313 [==============================] - 1s 2ms/step\n"
     ]
    }
   ],
   "source": [
    "encoder = keras.Model(input_img, encoded)\n",
    "encoded_imgs = encoder.predict(x_test)"
   ]
  },
  {
   "cell_type": "code",
   "execution_count": 16,
   "metadata": {},
   "outputs": [
    {
     "data": {
      "image/png": "[encoded data removed]",
      "text/plain": [
       "<Figure size 2000x800 with 10 Axes>"
      ]
     },
     "metadata": {},
     "output_type": "display_data"
    }
   ],
   "source": [
    "n = 10\n",
    "plt.figure(figsize=(20, 8))\n",
    "for i in range(1, n + 1):\n",
    "    ax = plt.subplot(1, n, i)\n",
    "    plt.imshow(encoded_imgs[i].reshape((4, 4 * 8)).T)\n",
    "    plt.gray()\n",
    "    ax.get_xaxis().set_visible(False)\n",
    "    ax.get_yaxis().set_visible(False)\n",
    "plt.show()"
   ]
  }
 ],
 "metadata": {
  "kernelspec": {
   "display_name": "Python 3",
   "language": "python",
   "name": "python3"
  },
  "language_info": {
   "codemirror_mode": {
    "name": "ipython",
    "version": 3
   },
   "file_extension": ".py",
   "mimetype": "text/x-python",
   "name": "python",
   "nbconvert_exporter": "python",
   "pygments_lexer": "ipython3",
   "version": "3.11.9"
  }
 },
 "nbformat": 4,
 "nbformat_minor": 2
}
