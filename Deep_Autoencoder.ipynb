{
 "cells": [
  {
   "cell_type": "markdown",
   "metadata": {},
   "source": [
    "## Deep autoencoder"
   ]
  },
  {
   "cell_type": "code",
   "execution_count": 3,
   "metadata": {},
   "outputs": [],
   "source": [
    "import keras\n",
    "from keras import layers\n",
    "from keras.utils import plot_model\n",
    "from keras.datasets import mnist\n",
    "from keras.callbacks import ModelCheckpoint\n",
    "from keras import regularizers"
   ]
  },
  {
   "cell_type": "code",
   "execution_count": 4,
   "metadata": {},
   "outputs": [],
   "source": [
    "from keras.datasets import mnist\n",
    "import numpy as np\n",
    "(x_train, _), (x_test, _) = mnist.load_data()"
   ]
  },
  {
   "cell_type": "code",
   "execution_count": 5,
   "metadata": {},
   "outputs": [],
   "source": [
    "input_img = keras.Input(shape=(784,))\n",
    "encoded = layers.Dense(128, activation='relu')(input_img)\n",
    "encoded = layers.Dense(64, activation='relu')(encoded)\n",
    "encoded = layers.Dense(32, activation='relu')(encoded)\n",
    "\n",
    "decoded = layers.Dense(64, activation='relu')(encoded)\n",
    "decoded = layers.Dense(128, activation='relu')(decoded)\n",
    "decoded = layers.Dense(784, activation='sigmoid')(decoded)"
   ]
  },
  {
   "cell_type": "code",
   "execution_count": 6,
   "metadata": {},
   "outputs": [
    {
     "name": "stdout",
     "output_type": "stream",
     "text": [
      "(60000, 784)\n",
      "(10000, 784)\n"
     ]
    }
   ],
   "source": [
    "x_train = x_train.astype('float32') / 255.\n",
    "x_test = x_test.astype('float32') / 255.\n",
    "x_train = x_train.reshape((len(x_train), np.prod(x_train.shape[1:])))\n",
    "x_test = x_test.reshape((len(x_test), np.prod(x_test.shape[1:])))\n",
    "print(x_train.shape)\n",
    "print(x_test.shape)"
   ]
  },
  {
   "cell_type": "code",
   "execution_count": 8,
   "metadata": {},
   "outputs": [
    {
     "name": "stdout",
     "output_type": "stream",
     "text": [
      "Epoch 1/100\n",
      "229/235 [============================>.] - ETA: 0s - loss: 0.1587\n",
      "Epoch 1: val_loss improved from inf to 0.14214, saving model to best_deep_autoencoder\n",
      "INFO:tensorflow:Assets written to: best_deep_autoencoder\\assets\n"
     ]
    },
    {
     "name": "stderr",
     "output_type": "stream",
     "text": [
      "INFO:tensorflow:Assets written to: best_deep_autoencoder\\assets\n"
     ]
    },
    {
     "name": "stdout",
     "output_type": "stream",
     "text": [
      "235/235 [==============================] - 2s 5ms/step - loss: 0.1584 - val_loss: 0.1421\n",
      "Epoch 2/100\n",
      "221/235 [===========================>..] - ETA: 0s - loss: 0.1346\n",
      "Epoch 2: val_loss improved from 0.14214 to 0.12607, saving model to best_deep_autoencoder\n",
      "INFO:tensorflow:Assets written to: best_deep_autoencoder\\assets\n"
     ]
    },
    {
     "name": "stderr",
     "output_type": "stream",
     "text": [
      "INFO:tensorflow:Assets written to: best_deep_autoencoder\\assets\n"
     ]
    },
    {
     "name": "stdout",
     "output_type": "stream",
     "text": [
      "235/235 [==============================] - 1s 5ms/step - loss: 0.1342 - val_loss: 0.1261\n",
      "Epoch 3/100\n",
      "230/235 [============================>.] - ETA: 0s - loss: 0.1231\n",
      "Epoch 3: val_loss improved from 0.12607 to 0.11733, saving model to best_deep_autoencoder\n",
      "INFO:tensorflow:Assets written to: best_deep_autoencoder\\assets\n"
     ]
    },
    {
     "name": "stderr",
     "output_type": "stream",
     "text": [
      "INFO:tensorflow:Assets written to: best_deep_autoencoder\\assets\n"
     ]
    },
    {
     "name": "stdout",
     "output_type": "stream",
     "text": [
      "235/235 [==============================] - 1s 5ms/step - loss: 0.1230 - val_loss: 0.1173\n",
      "Epoch 4/100\n",
      "226/235 [===========================>..] - ETA: 0s - loss: 0.1165\n",
      "Epoch 4: val_loss improved from 0.11733 to 0.11219, saving model to best_deep_autoencoder\n",
      "INFO:tensorflow:Assets written to: best_deep_autoencoder\\assets\n"
     ]
    },
    {
     "name": "stderr",
     "output_type": "stream",
     "text": [
      "INFO:tensorflow:Assets written to: best_deep_autoencoder\\assets\n"
     ]
    },
    {
     "name": "stdout",
     "output_type": "stream",
     "text": [
      "235/235 [==============================] - 1s 5ms/step - loss: 0.1164 - val_loss: 0.1122\n",
      "Epoch 5/100\n",
      "231/235 [============================>.] - ETA: 0s - loss: 0.1120\n",
      "Epoch 5: val_loss improved from 0.11219 to 0.10914, saving model to best_deep_autoencoder\n",
      "INFO:tensorflow:Assets written to: best_deep_autoencoder\\assets\n"
     ]
    },
    {
     "name": "stderr",
     "output_type": "stream",
     "text": [
      "INFO:tensorflow:Assets written to: best_deep_autoencoder\\assets\n"
     ]
    },
    {
     "name": "stdout",
     "output_type": "stream",
     "text": [
      "235/235 [==============================] - 1s 5ms/step - loss: 0.1120 - val_loss: 0.1091\n",
      "Epoch 6/100\n",
      "233/235 [============================>.] - ETA: 0s - loss: 0.1094\n",
      "Epoch 6: val_loss improved from 0.10914 to 0.10688, saving model to best_deep_autoencoder\n",
      "INFO:tensorflow:Assets written to: best_deep_autoencoder\\assets\n"
     ]
    },
    {
     "name": "stderr",
     "output_type": "stream",
     "text": [
      "INFO:tensorflow:Assets written to: best_deep_autoencoder\\assets\n"
     ]
    },
    {
     "name": "stdout",
     "output_type": "stream",
     "text": [
      "235/235 [==============================] - 1s 5ms/step - loss: 0.1094 - val_loss: 0.1069\n",
      "Epoch 7/100\n",
      "230/235 [============================>.] - ETA: 0s - loss: 0.1073\n",
      "Epoch 7: val_loss improved from 0.10688 to 0.10505, saving model to best_deep_autoencoder\n",
      "INFO:tensorflow:Assets written to: best_deep_autoencoder\\assets\n"
     ]
    },
    {
     "name": "stderr",
     "output_type": "stream",
     "text": [
      "INFO:tensorflow:Assets written to: best_deep_autoencoder\\assets\n"
     ]
    },
    {
     "name": "stdout",
     "output_type": "stream",
     "text": [
      "235/235 [==============================] - 1s 5ms/step - loss: 0.1073 - val_loss: 0.1051\n",
      "Epoch 8/100\n",
      "226/235 [===========================>..] - ETA: 0s - loss: 0.1056\n",
      "Epoch 8: val_loss improved from 0.10505 to 0.10345, saving model to best_deep_autoencoder\n",
      "INFO:tensorflow:Assets written to: best_deep_autoencoder\\assets\n"
     ]
    },
    {
     "name": "stderr",
     "output_type": "stream",
     "text": [
      "INFO:tensorflow:Assets written to: best_deep_autoencoder\\assets\n"
     ]
    },
    {
     "name": "stdout",
     "output_type": "stream",
     "text": [
      "235/235 [==============================] - 1s 5ms/step - loss: 0.1056 - val_loss: 0.1035\n",
      "Epoch 9/100\n",
      "232/235 [============================>.] - ETA: 0s - loss: 0.1040\n",
      "Epoch 9: val_loss improved from 0.10345 to 0.10218, saving model to best_deep_autoencoder\n",
      "INFO:tensorflow:Assets written to: best_deep_autoencoder\\assets\n"
     ]
    },
    {
     "name": "stderr",
     "output_type": "stream",
     "text": [
      "INFO:tensorflow:Assets written to: best_deep_autoencoder\\assets\n"
     ]
    },
    {
     "name": "stdout",
     "output_type": "stream",
     "text": [
      "235/235 [==============================] - 1s 5ms/step - loss: 0.1040 - val_loss: 0.1022\n",
      "Epoch 10/100\n",
      "234/235 [============================>.] - ETA: 0s - loss: 0.1026\n",
      "Epoch 10: val_loss improved from 0.10218 to 0.10078, saving model to best_deep_autoencoder\n",
      "INFO:tensorflow:Assets written to: best_deep_autoencoder\\assets\n"
     ]
    },
    {
     "name": "stderr",
     "output_type": "stream",
     "text": [
      "INFO:tensorflow:Assets written to: best_deep_autoencoder\\assets\n"
     ]
    },
    {
     "name": "stdout",
     "output_type": "stream",
     "text": [
      "235/235 [==============================] - 1s 5ms/step - loss: 0.1026 - val_loss: 0.1008\n",
      "Epoch 11/100\n",
      "233/235 [============================>.] - ETA: 0s - loss: 0.1013\n",
      "Epoch 11: val_loss improved from 0.10078 to 0.10010, saving model to best_deep_autoencoder\n",
      "INFO:tensorflow:Assets written to: best_deep_autoencoder\\assets\n"
     ]
    },
    {
     "name": "stderr",
     "output_type": "stream",
     "text": [
      "INFO:tensorflow:Assets written to: best_deep_autoencoder\\assets\n"
     ]
    },
    {
     "name": "stdout",
     "output_type": "stream",
     "text": [
      "235/235 [==============================] - 1s 5ms/step - loss: 0.1013 - val_loss: 0.1001\n",
      "Epoch 12/100\n",
      "219/235 [==========================>...] - ETA: 0s - loss: 0.1002\n",
      "Epoch 12: val_loss improved from 0.10010 to 0.09887, saving model to best_deep_autoencoder\n",
      "INFO:tensorflow:Assets written to: best_deep_autoencoder\\assets\n"
     ]
    },
    {
     "name": "stderr",
     "output_type": "stream",
     "text": [
      "INFO:tensorflow:Assets written to: best_deep_autoencoder\\assets\n"
     ]
    },
    {
     "name": "stdout",
     "output_type": "stream",
     "text": [
      "235/235 [==============================] - 1s 5ms/step - loss: 0.1002 - val_loss: 0.0989\n",
      "Epoch 13/100\n",
      "221/235 [===========================>..] - ETA: 0s - loss: 0.0991\n",
      "Epoch 13: val_loss improved from 0.09887 to 0.09762, saving model to best_deep_autoencoder\n",
      "INFO:tensorflow:Assets written to: best_deep_autoencoder\\assets\n"
     ]
    },
    {
     "name": "stderr",
     "output_type": "stream",
     "text": [
      "INFO:tensorflow:Assets written to: best_deep_autoencoder\\assets\n"
     ]
    },
    {
     "name": "stdout",
     "output_type": "stream",
     "text": [
      "235/235 [==============================] - 1s 5ms/step - loss: 0.0991 - val_loss: 0.0976\n",
      "Epoch 14/100\n",
      "226/235 [===========================>..] - ETA: 0s - loss: 0.0981\n",
      "Epoch 14: val_loss improved from 0.09762 to 0.09664, saving model to best_deep_autoencoder\n",
      "INFO:tensorflow:Assets written to: best_deep_autoencoder\\assets\n"
     ]
    },
    {
     "name": "stderr",
     "output_type": "stream",
     "text": [
      "INFO:tensorflow:Assets written to: best_deep_autoencoder\\assets\n"
     ]
    },
    {
     "name": "stdout",
     "output_type": "stream",
     "text": [
      "235/235 [==============================] - 1s 5ms/step - loss: 0.0980 - val_loss: 0.0966\n",
      "Epoch 15/100\n",
      "235/235 [==============================] - ETA: 0s - loss: 0.0970\n",
      "Epoch 15: val_loss improved from 0.09664 to 0.09563, saving model to best_deep_autoencoder\n",
      "INFO:tensorflow:Assets written to: best_deep_autoencoder\\assets\n"
     ]
    },
    {
     "name": "stderr",
     "output_type": "stream",
     "text": [
      "INFO:tensorflow:Assets written to: best_deep_autoencoder\\assets\n"
     ]
    },
    {
     "name": "stdout",
     "output_type": "stream",
     "text": [
      "235/235 [==============================] - 1s 5ms/step - loss: 0.0970 - val_loss: 0.0956\n",
      "Epoch 16/100\n",
      "224/235 [===========================>..] - ETA: 0s - loss: 0.0963\n",
      "Epoch 16: val_loss improved from 0.09563 to 0.09480, saving model to best_deep_autoencoder\n",
      "INFO:tensorflow:Assets written to: best_deep_autoencoder\\assets\n"
     ]
    },
    {
     "name": "stderr",
     "output_type": "stream",
     "text": [
      "INFO:tensorflow:Assets written to: best_deep_autoencoder\\assets\n"
     ]
    },
    {
     "name": "stdout",
     "output_type": "stream",
     "text": [
      "235/235 [==============================] - 1s 5ms/step - loss: 0.0963 - val_loss: 0.0948\n",
      "Epoch 17/100\n",
      "233/235 [============================>.] - ETA: 0s - loss: 0.0956\n",
      "Epoch 17: val_loss improved from 0.09480 to 0.09442, saving model to best_deep_autoencoder\n",
      "INFO:tensorflow:Assets written to: best_deep_autoencoder\\assets\n"
     ]
    },
    {
     "name": "stderr",
     "output_type": "stream",
     "text": [
      "INFO:tensorflow:Assets written to: best_deep_autoencoder\\assets\n"
     ]
    },
    {
     "name": "stdout",
     "output_type": "stream",
     "text": [
      "235/235 [==============================] - 1s 5ms/step - loss: 0.0956 - val_loss: 0.0944\n",
      "Epoch 18/100\n",
      "223/235 [===========================>..] - ETA: 0s - loss: 0.0950\n",
      "Epoch 18: val_loss improved from 0.09442 to 0.09385, saving model to best_deep_autoencoder\n",
      "INFO:tensorflow:Assets written to: best_deep_autoencoder\\assets\n"
     ]
    },
    {
     "name": "stderr",
     "output_type": "stream",
     "text": [
      "INFO:tensorflow:Assets written to: best_deep_autoencoder\\assets\n"
     ]
    },
    {
     "name": "stdout",
     "output_type": "stream",
     "text": [
      "235/235 [==============================] - 1s 5ms/step - loss: 0.0950 - val_loss: 0.0938\n",
      "Epoch 19/100\n",
      "223/235 [===========================>..] - ETA: 0s - loss: 0.0945\n",
      "Epoch 19: val_loss improved from 0.09385 to 0.09335, saving model to best_deep_autoencoder\n",
      "INFO:tensorflow:Assets written to: best_deep_autoencoder\\assets\n"
     ]
    },
    {
     "name": "stderr",
     "output_type": "stream",
     "text": [
      "INFO:tensorflow:Assets written to: best_deep_autoencoder\\assets\n"
     ]
    },
    {
     "name": "stdout",
     "output_type": "stream",
     "text": [
      "235/235 [==============================] - 1s 5ms/step - loss: 0.0945 - val_loss: 0.0934\n",
      "Epoch 20/100\n",
      "221/235 [===========================>..] - ETA: 0s - loss: 0.0941\n",
      "Epoch 20: val_loss improved from 0.09335 to 0.09322, saving model to best_deep_autoencoder\n",
      "INFO:tensorflow:Assets written to: best_deep_autoencoder\\assets\n"
     ]
    },
    {
     "name": "stderr",
     "output_type": "stream",
     "text": [
      "INFO:tensorflow:Assets written to: best_deep_autoencoder\\assets\n"
     ]
    },
    {
     "name": "stdout",
     "output_type": "stream",
     "text": [
      "235/235 [==============================] - 1s 5ms/step - loss: 0.0941 - val_loss: 0.0932\n",
      "Epoch 21/100\n",
      "230/235 [============================>.] - ETA: 0s - loss: 0.0937\n",
      "Epoch 21: val_loss improved from 0.09322 to 0.09262, saving model to best_deep_autoencoder\n",
      "INFO:tensorflow:Assets written to: best_deep_autoencoder\\assets\n"
     ]
    },
    {
     "name": "stderr",
     "output_type": "stream",
     "text": [
      "INFO:tensorflow:Assets written to: best_deep_autoencoder\\assets\n"
     ]
    },
    {
     "name": "stdout",
     "output_type": "stream",
     "text": [
      "235/235 [==============================] - 1s 5ms/step - loss: 0.0937 - val_loss: 0.0926\n",
      "Epoch 22/100\n",
      "222/235 [===========================>..] - ETA: 0s - loss: 0.0933\n",
      "Epoch 22: val_loss did not improve from 0.09262\n",
      "235/235 [==============================] - 1s 3ms/step - loss: 0.0933 - val_loss: 0.0927\n",
      "Epoch 23/100\n",
      "218/235 [==========================>...] - ETA: 0s - loss: 0.0929\n",
      "Epoch 23: val_loss improved from 0.09262 to 0.09203, saving model to best_deep_autoencoder\n",
      "INFO:tensorflow:Assets written to: best_deep_autoencoder\\assets\n"
     ]
    },
    {
     "name": "stderr",
     "output_type": "stream",
     "text": [
      "INFO:tensorflow:Assets written to: best_deep_autoencoder\\assets\n"
     ]
    },
    {
     "name": "stdout",
     "output_type": "stream",
     "text": [
      "235/235 [==============================] - 1s 5ms/step - loss: 0.0929 - val_loss: 0.0920\n",
      "Epoch 24/100\n",
      "228/235 [============================>.] - ETA: 0s - loss: 0.0925\n",
      "Epoch 24: val_loss improved from 0.09203 to 0.09130, saving model to best_deep_autoencoder\n",
      "INFO:tensorflow:Assets written to: best_deep_autoencoder\\assets\n"
     ]
    },
    {
     "name": "stderr",
     "output_type": "stream",
     "text": [
      "INFO:tensorflow:Assets written to: best_deep_autoencoder\\assets\n"
     ]
    },
    {
     "name": "stdout",
     "output_type": "stream",
     "text": [
      "235/235 [==============================] - 1s 5ms/step - loss: 0.0924 - val_loss: 0.0913\n",
      "Epoch 25/100\n",
      "233/235 [============================>.] - ETA: 0s - loss: 0.0921\n",
      "Epoch 25: val_loss did not improve from 0.09130\n",
      "235/235 [==============================] - 1s 4ms/step - loss: 0.0921 - val_loss: 0.0913\n",
      "Epoch 26/100\n",
      "222/235 [===========================>..] - ETA: 0s - loss: 0.0917\n",
      "Epoch 26: val_loss improved from 0.09130 to 0.09085, saving model to best_deep_autoencoder\n",
      "INFO:tensorflow:Assets written to: best_deep_autoencoder\\assets\n"
     ]
    },
    {
     "name": "stderr",
     "output_type": "stream",
     "text": [
      "INFO:tensorflow:Assets written to: best_deep_autoencoder\\assets\n"
     ]
    },
    {
     "name": "stdout",
     "output_type": "stream",
     "text": [
      "235/235 [==============================] - 1s 5ms/step - loss: 0.0917 - val_loss: 0.0909\n",
      "Epoch 27/100\n",
      "228/235 [============================>.] - ETA: 0s - loss: 0.0914\n",
      "Epoch 27: val_loss improved from 0.09085 to 0.09056, saving model to best_deep_autoencoder\n",
      "INFO:tensorflow:Assets written to: best_deep_autoencoder\\assets\n"
     ]
    },
    {
     "name": "stderr",
     "output_type": "stream",
     "text": [
      "INFO:tensorflow:Assets written to: best_deep_autoencoder\\assets\n"
     ]
    },
    {
     "name": "stdout",
     "output_type": "stream",
     "text": [
      "235/235 [==============================] - 1s 5ms/step - loss: 0.0914 - val_loss: 0.0906\n",
      "Epoch 28/100\n",
      "217/235 [==========================>...] - ETA: 0s - loss: 0.0910\n",
      "Epoch 28: val_loss improved from 0.09056 to 0.09009, saving model to best_deep_autoencoder\n",
      "INFO:tensorflow:Assets written to: best_deep_autoencoder\\assets\n"
     ]
    },
    {
     "name": "stderr",
     "output_type": "stream",
     "text": [
      "INFO:tensorflow:Assets written to: best_deep_autoencoder\\assets\n"
     ]
    },
    {
     "name": "stdout",
     "output_type": "stream",
     "text": [
      "235/235 [==============================] - 1s 5ms/step - loss: 0.0910 - val_loss: 0.0901\n",
      "Epoch 29/100\n",
      "228/235 [============================>.] - ETA: 0s - loss: 0.0908\n",
      "Epoch 29: val_loss did not improve from 0.09009\n",
      "235/235 [==============================] - 1s 3ms/step - loss: 0.0908 - val_loss: 0.0902\n",
      "Epoch 30/100\n",
      "225/235 [===========================>..] - ETA: 0s - loss: 0.0906\n",
      "Epoch 30: val_loss improved from 0.09009 to 0.08957, saving model to best_deep_autoencoder\n",
      "INFO:tensorflow:Assets written to: best_deep_autoencoder\\assets\n"
     ]
    },
    {
     "name": "stderr",
     "output_type": "stream",
     "text": [
      "INFO:tensorflow:Assets written to: best_deep_autoencoder\\assets\n"
     ]
    },
    {
     "name": "stdout",
     "output_type": "stream",
     "text": [
      "235/235 [==============================] - 1s 5ms/step - loss: 0.0905 - val_loss: 0.0896\n",
      "Epoch 31/100\n",
      "227/235 [===========================>..] - ETA: 0s - loss: 0.0903\n",
      "Epoch 31: val_loss improved from 0.08957 to 0.08955, saving model to best_deep_autoencoder\n",
      "INFO:tensorflow:Assets written to: best_deep_autoencoder\\assets\n"
     ]
    },
    {
     "name": "stderr",
     "output_type": "stream",
     "text": [
      "INFO:tensorflow:Assets written to: best_deep_autoencoder\\assets\n"
     ]
    },
    {
     "name": "stdout",
     "output_type": "stream",
     "text": [
      "235/235 [==============================] - 1s 5ms/step - loss: 0.0903 - val_loss: 0.0895\n",
      "Epoch 32/100\n",
      "227/235 [===========================>..] - ETA: 0s - loss: 0.0900\n",
      "Epoch 32: val_loss improved from 0.08955 to 0.08934, saving model to best_deep_autoencoder\n",
      "INFO:tensorflow:Assets written to: best_deep_autoencoder\\assets\n"
     ]
    },
    {
     "name": "stderr",
     "output_type": "stream",
     "text": [
      "INFO:tensorflow:Assets written to: best_deep_autoencoder\\assets\n"
     ]
    },
    {
     "name": "stdout",
     "output_type": "stream",
     "text": [
      "235/235 [==============================] - 1s 5ms/step - loss: 0.0900 - val_loss: 0.0893\n",
      "Epoch 33/100\n",
      "231/235 [============================>.] - ETA: 0s - loss: 0.0899\n",
      "Epoch 33: val_loss improved from 0.08934 to 0.08899, saving model to best_deep_autoencoder\n",
      "INFO:tensorflow:Assets written to: best_deep_autoencoder\\assets\n"
     ]
    },
    {
     "name": "stderr",
     "output_type": "stream",
     "text": [
      "INFO:tensorflow:Assets written to: best_deep_autoencoder\\assets\n"
     ]
    },
    {
     "name": "stdout",
     "output_type": "stream",
     "text": [
      "235/235 [==============================] - 1s 5ms/step - loss: 0.0899 - val_loss: 0.0890\n",
      "Epoch 34/100\n",
      "225/235 [===========================>..] - ETA: 0s - loss: 0.0897\n",
      "Epoch 34: val_loss did not improve from 0.08899\n",
      "235/235 [==============================] - 1s 4ms/step - loss: 0.0897 - val_loss: 0.0890\n",
      "Epoch 35/100\n",
      "235/235 [==============================] - ETA: 0s - loss: 0.0894\n",
      "Epoch 35: val_loss improved from 0.08899 to 0.08868, saving model to best_deep_autoencoder\n",
      "INFO:tensorflow:Assets written to: best_deep_autoencoder\\assets\n"
     ]
    },
    {
     "name": "stderr",
     "output_type": "stream",
     "text": [
      "INFO:tensorflow:Assets written to: best_deep_autoencoder\\assets\n"
     ]
    },
    {
     "name": "stdout",
     "output_type": "stream",
     "text": [
      "235/235 [==============================] - 1s 5ms/step - loss: 0.0894 - val_loss: 0.0887\n",
      "Epoch 36/100\n",
      "226/235 [===========================>..] - ETA: 0s - loss: 0.0893\n",
      "Epoch 36: val_loss did not improve from 0.08868\n",
      "235/235 [==============================] - 1s 3ms/step - loss: 0.0893 - val_loss: 0.0887\n",
      "Epoch 37/100\n",
      "234/235 [============================>.] - ETA: 0s - loss: 0.0891\n",
      "Epoch 37: val_loss improved from 0.08868 to 0.08850, saving model to best_deep_autoencoder\n",
      "INFO:tensorflow:Assets written to: best_deep_autoencoder\\assets\n"
     ]
    },
    {
     "name": "stderr",
     "output_type": "stream",
     "text": [
      "INFO:tensorflow:Assets written to: best_deep_autoencoder\\assets\n"
     ]
    },
    {
     "name": "stdout",
     "output_type": "stream",
     "text": [
      "235/235 [==============================] - 1s 5ms/step - loss: 0.0891 - val_loss: 0.0885\n",
      "Epoch 38/100\n",
      "220/235 [===========================>..] - ETA: 0s - loss: 0.0890\n",
      "Epoch 38: val_loss did not improve from 0.08850\n",
      "235/235 [==============================] - 1s 3ms/step - loss: 0.0890 - val_loss: 0.0888\n",
      "Epoch 39/100\n",
      "227/235 [===========================>..] - ETA: 0s - loss: 0.0888\n",
      "Epoch 39: val_loss improved from 0.08850 to 0.08821, saving model to best_deep_autoencoder\n",
      "INFO:tensorflow:Assets written to: best_deep_autoencoder\\assets\n"
     ]
    },
    {
     "name": "stderr",
     "output_type": "stream",
     "text": [
      "INFO:tensorflow:Assets written to: best_deep_autoencoder\\assets\n"
     ]
    },
    {
     "name": "stdout",
     "output_type": "stream",
     "text": [
      "235/235 [==============================] - 1s 5ms/step - loss: 0.0888 - val_loss: 0.0882\n",
      "Epoch 40/100\n",
      "232/235 [============================>.] - ETA: 0s - loss: 0.0887\n",
      "Epoch 40: val_loss improved from 0.08821 to 0.08792, saving model to best_deep_autoencoder\n",
      "INFO:tensorflow:Assets written to: best_deep_autoencoder\\assets\n"
     ]
    },
    {
     "name": "stderr",
     "output_type": "stream",
     "text": [
      "INFO:tensorflow:Assets written to: best_deep_autoencoder\\assets\n"
     ]
    },
    {
     "name": "stdout",
     "output_type": "stream",
     "text": [
      "235/235 [==============================] - 1s 5ms/step - loss: 0.0887 - val_loss: 0.0879\n",
      "Epoch 41/100\n",
      "220/235 [===========================>..] - ETA: 0s - loss: 0.0885\n",
      "Epoch 41: val_loss did not improve from 0.08792\n",
      "235/235 [==============================] - 1s 3ms/step - loss: 0.0886 - val_loss: 0.0880\n",
      "Epoch 42/100\n",
      "232/235 [============================>.] - ETA: 0s - loss: 0.0884\n",
      "Epoch 42: val_loss improved from 0.08792 to 0.08789, saving model to best_deep_autoencoder\n",
      "INFO:tensorflow:Assets written to: best_deep_autoencoder\\assets\n"
     ]
    },
    {
     "name": "stderr",
     "output_type": "stream",
     "text": [
      "INFO:tensorflow:Assets written to: best_deep_autoencoder\\assets\n"
     ]
    },
    {
     "name": "stdout",
     "output_type": "stream",
     "text": [
      "235/235 [==============================] - 1s 5ms/step - loss: 0.0884 - val_loss: 0.0879\n",
      "Epoch 43/100\n",
      "234/235 [============================>.] - ETA: 0s - loss: 0.0883\n",
      "Epoch 43: val_loss improved from 0.08789 to 0.08775, saving model to best_deep_autoencoder\n",
      "INFO:tensorflow:Assets written to: best_deep_autoencoder\\assets\n"
     ]
    },
    {
     "name": "stderr",
     "output_type": "stream",
     "text": [
      "INFO:tensorflow:Assets written to: best_deep_autoencoder\\assets\n"
     ]
    },
    {
     "name": "stdout",
     "output_type": "stream",
     "text": [
      "235/235 [==============================] - 1s 5ms/step - loss: 0.0883 - val_loss: 0.0878\n",
      "Epoch 44/100\n",
      "219/235 [==========================>...] - ETA: 0s - loss: 0.0882\n",
      "Epoch 44: val_loss did not improve from 0.08775\n",
      "235/235 [==============================] - 1s 3ms/step - loss: 0.0882 - val_loss: 0.0879\n",
      "Epoch 45/100\n",
      "232/235 [============================>.] - ETA: 0s - loss: 0.0881\n",
      "Epoch 45: val_loss improved from 0.08775 to 0.08737, saving model to best_deep_autoencoder\n",
      "INFO:tensorflow:Assets written to: best_deep_autoencoder\\assets\n"
     ]
    },
    {
     "name": "stderr",
     "output_type": "stream",
     "text": [
      "INFO:tensorflow:Assets written to: best_deep_autoencoder\\assets\n"
     ]
    },
    {
     "name": "stdout",
     "output_type": "stream",
     "text": [
      "235/235 [==============================] - 1s 5ms/step - loss: 0.0881 - val_loss: 0.0874\n",
      "Epoch 46/100\n",
      "230/235 [============================>.] - ETA: 0s - loss: 0.0880\n",
      "Epoch 46: val_loss did not improve from 0.08737\n",
      "235/235 [==============================] - 1s 4ms/step - loss: 0.0880 - val_loss: 0.0874\n",
      "Epoch 47/100\n",
      "218/235 [==========================>...] - ETA: 0s - loss: 0.0879\n",
      "Epoch 47: val_loss improved from 0.08737 to 0.08729, saving model to best_deep_autoencoder\n",
      "INFO:tensorflow:Assets written to: best_deep_autoencoder\\assets\n"
     ]
    },
    {
     "name": "stderr",
     "output_type": "stream",
     "text": [
      "INFO:tensorflow:Assets written to: best_deep_autoencoder\\assets\n"
     ]
    },
    {
     "name": "stdout",
     "output_type": "stream",
     "text": [
      "235/235 [==============================] - 1s 5ms/step - loss: 0.0879 - val_loss: 0.0873\n",
      "Epoch 48/100\n",
      "234/235 [============================>.] - ETA: 0s - loss: 0.0878\n",
      "Epoch 48: val_loss did not improve from 0.08729\n",
      "235/235 [==============================] - 1s 4ms/step - loss: 0.0878 - val_loss: 0.0874\n",
      "Epoch 49/100\n",
      "220/235 [===========================>..] - ETA: 0s - loss: 0.0877\n",
      "Epoch 49: val_loss improved from 0.08729 to 0.08700, saving model to best_deep_autoencoder\n",
      "INFO:tensorflow:Assets written to: best_deep_autoencoder\\assets\n"
     ]
    },
    {
     "name": "stderr",
     "output_type": "stream",
     "text": [
      "INFO:tensorflow:Assets written to: best_deep_autoencoder\\assets\n"
     ]
    },
    {
     "name": "stdout",
     "output_type": "stream",
     "text": [
      "235/235 [==============================] - 1s 5ms/step - loss: 0.0877 - val_loss: 0.0870\n",
      "Epoch 50/100\n",
      "222/235 [===========================>..] - ETA: 0s - loss: 0.0876\n",
      "Epoch 50: val_loss improved from 0.08700 to 0.08690, saving model to best_deep_autoencoder\n",
      "INFO:tensorflow:Assets written to: best_deep_autoencoder\\assets\n"
     ]
    },
    {
     "name": "stderr",
     "output_type": "stream",
     "text": [
      "INFO:tensorflow:Assets written to: best_deep_autoencoder\\assets\n"
     ]
    },
    {
     "name": "stdout",
     "output_type": "stream",
     "text": [
      "235/235 [==============================] - 1s 5ms/step - loss: 0.0876 - val_loss: 0.0869\n",
      "Epoch 51/100\n",
      "226/235 [===========================>..] - ETA: 0s - loss: 0.0875\n",
      "Epoch 51: val_loss improved from 0.08690 to 0.08683, saving model to best_deep_autoencoder\n",
      "INFO:tensorflow:Assets written to: best_deep_autoencoder\\assets\n"
     ]
    },
    {
     "name": "stderr",
     "output_type": "stream",
     "text": [
      "INFO:tensorflow:Assets written to: best_deep_autoencoder\\assets\n"
     ]
    },
    {
     "name": "stdout",
     "output_type": "stream",
     "text": [
      "235/235 [==============================] - 1s 5ms/step - loss: 0.0875 - val_loss: 0.0868\n",
      "Epoch 52/100\n",
      "233/235 [============================>.] - ETA: 0s - loss: 0.0874\n",
      "Epoch 52: val_loss improved from 0.08683 to 0.08683, saving model to best_deep_autoencoder\n",
      "INFO:tensorflow:Assets written to: best_deep_autoencoder\\assets\n"
     ]
    },
    {
     "name": "stderr",
     "output_type": "stream",
     "text": [
      "INFO:tensorflow:Assets written to: best_deep_autoencoder\\assets\n"
     ]
    },
    {
     "name": "stdout",
     "output_type": "stream",
     "text": [
      "235/235 [==============================] - 1s 5ms/step - loss: 0.0874 - val_loss: 0.0868\n",
      "Epoch 53/100\n",
      "230/235 [============================>.] - ETA: 0s - loss: 0.0873\n",
      "Epoch 53: val_loss improved from 0.08683 to 0.08680, saving model to best_deep_autoencoder\n",
      "INFO:tensorflow:Assets written to: best_deep_autoencoder\\assets\n"
     ]
    },
    {
     "name": "stderr",
     "output_type": "stream",
     "text": [
      "INFO:tensorflow:Assets written to: best_deep_autoencoder\\assets\n"
     ]
    },
    {
     "name": "stdout",
     "output_type": "stream",
     "text": [
      "235/235 [==============================] - 1s 5ms/step - loss: 0.0873 - val_loss: 0.0868\n",
      "Epoch 54/100\n",
      "217/235 [==========================>...] - ETA: 0s - loss: 0.0874\n",
      "Epoch 54: val_loss improved from 0.08680 to 0.08669, saving model to best_deep_autoencoder\n",
      "INFO:tensorflow:Assets written to: best_deep_autoencoder\\assets\n"
     ]
    },
    {
     "name": "stderr",
     "output_type": "stream",
     "text": [
      "INFO:tensorflow:Assets written to: best_deep_autoencoder\\assets\n"
     ]
    },
    {
     "name": "stdout",
     "output_type": "stream",
     "text": [
      "235/235 [==============================] - 1s 5ms/step - loss: 0.0873 - val_loss: 0.0867\n",
      "Epoch 55/100\n",
      "234/235 [============================>.] - ETA: 0s - loss: 0.0872\n",
      "Epoch 55: val_loss did not improve from 0.08669\n",
      "235/235 [==============================] - 1s 4ms/step - loss: 0.0872 - val_loss: 0.0869\n",
      "Epoch 56/100\n",
      "225/235 [===========================>..] - ETA: 0s - loss: 0.0871\n",
      "Epoch 56: val_loss did not improve from 0.08669\n",
      "235/235 [==============================] - 1s 4ms/step - loss: 0.0871 - val_loss: 0.0868\n",
      "Epoch 57/100\n",
      "219/235 [==========================>...] - ETA: 0s - loss: 0.0870\n",
      "Epoch 57: val_loss improved from 0.08669 to 0.08661, saving model to best_deep_autoencoder\n",
      "INFO:tensorflow:Assets written to: best_deep_autoencoder\\assets\n"
     ]
    },
    {
     "name": "stderr",
     "output_type": "stream",
     "text": [
      "INFO:tensorflow:Assets written to: best_deep_autoencoder\\assets\n"
     ]
    },
    {
     "name": "stdout",
     "output_type": "stream",
     "text": [
      "235/235 [==============================] - 1s 5ms/step - loss: 0.0870 - val_loss: 0.0866\n",
      "Epoch 58/100\n",
      "221/235 [===========================>..] - ETA: 0s - loss: 0.0869\n",
      "Epoch 58: val_loss improved from 0.08661 to 0.08657, saving model to best_deep_autoencoder\n",
      "INFO:tensorflow:Assets written to: best_deep_autoencoder\\assets\n"
     ]
    },
    {
     "name": "stderr",
     "output_type": "stream",
     "text": [
      "INFO:tensorflow:Assets written to: best_deep_autoencoder\\assets\n"
     ]
    },
    {
     "name": "stdout",
     "output_type": "stream",
     "text": [
      "235/235 [==============================] - 1s 5ms/step - loss: 0.0870 - val_loss: 0.0866\n",
      "Epoch 59/100\n",
      "234/235 [============================>.] - ETA: 0s - loss: 0.0869\n",
      "Epoch 59: val_loss improved from 0.08657 to 0.08648, saving model to best_deep_autoencoder\n",
      "INFO:tensorflow:Assets written to: best_deep_autoencoder\\assets\n"
     ]
    },
    {
     "name": "stderr",
     "output_type": "stream",
     "text": [
      "INFO:tensorflow:Assets written to: best_deep_autoencoder\\assets\n"
     ]
    },
    {
     "name": "stdout",
     "output_type": "stream",
     "text": [
      "235/235 [==============================] - 1s 5ms/step - loss: 0.0869 - val_loss: 0.0865\n",
      "Epoch 60/100\n",
      "233/235 [============================>.] - ETA: 0s - loss: 0.0868\n",
      "Epoch 60: val_loss improved from 0.08648 to 0.08637, saving model to best_deep_autoencoder\n",
      "INFO:tensorflow:Assets written to: best_deep_autoencoder\\assets\n"
     ]
    },
    {
     "name": "stderr",
     "output_type": "stream",
     "text": [
      "INFO:tensorflow:Assets written to: best_deep_autoencoder\\assets\n"
     ]
    },
    {
     "name": "stdout",
     "output_type": "stream",
     "text": [
      "235/235 [==============================] - 1s 5ms/step - loss: 0.0869 - val_loss: 0.0864\n",
      "Epoch 61/100\n",
      "214/235 [==========================>...] - ETA: 0s - loss: 0.0867\n",
      "Epoch 61: val_loss improved from 0.08637 to 0.08622, saving model to best_deep_autoencoder\n",
      "INFO:tensorflow:Assets written to: best_deep_autoencoder\\assets\n"
     ]
    },
    {
     "name": "stderr",
     "output_type": "stream",
     "text": [
      "INFO:tensorflow:Assets written to: best_deep_autoencoder\\assets\n"
     ]
    },
    {
     "name": "stdout",
     "output_type": "stream",
     "text": [
      "235/235 [==============================] - 1s 5ms/step - loss: 0.0867 - val_loss: 0.0862\n",
      "Epoch 62/100\n",
      "232/235 [============================>.] - ETA: 0s - loss: 0.0867\n",
      "Epoch 62: val_loss did not improve from 0.08622\n",
      "235/235 [==============================] - 1s 3ms/step - loss: 0.0867 - val_loss: 0.0863\n",
      "Epoch 63/100\n",
      "222/235 [===========================>..] - ETA: 0s - loss: 0.0866\n",
      "Epoch 63: val_loss improved from 0.08622 to 0.08616, saving model to best_deep_autoencoder\n",
      "INFO:tensorflow:Assets written to: best_deep_autoencoder\\assets\n"
     ]
    },
    {
     "name": "stderr",
     "output_type": "stream",
     "text": [
      "INFO:tensorflow:Assets written to: best_deep_autoencoder\\assets\n"
     ]
    },
    {
     "name": "stdout",
     "output_type": "stream",
     "text": [
      "235/235 [==============================] - 1s 5ms/step - loss: 0.0866 - val_loss: 0.0862\n",
      "Epoch 64/100\n",
      "233/235 [============================>.] - ETA: 0s - loss: 0.0866\n",
      "Epoch 64: val_loss did not improve from 0.08616\n",
      "235/235 [==============================] - 1s 3ms/step - loss: 0.0866 - val_loss: 0.0862\n",
      "Epoch 65/100\n",
      "226/235 [===========================>..] - ETA: 0s - loss: 0.0865\n",
      "Epoch 65: val_loss did not improve from 0.08616\n",
      "235/235 [==============================] - 1s 3ms/step - loss: 0.0865 - val_loss: 0.0862\n",
      "Epoch 66/100\n",
      "221/235 [===========================>..] - ETA: 0s - loss: 0.0865\n",
      "Epoch 66: val_loss improved from 0.08616 to 0.08615, saving model to best_deep_autoencoder\n",
      "INFO:tensorflow:Assets written to: best_deep_autoencoder\\assets\n"
     ]
    },
    {
     "name": "stderr",
     "output_type": "stream",
     "text": [
      "INFO:tensorflow:Assets written to: best_deep_autoencoder\\assets\n"
     ]
    },
    {
     "name": "stdout",
     "output_type": "stream",
     "text": [
      "235/235 [==============================] - 1s 5ms/step - loss: 0.0865 - val_loss: 0.0862\n",
      "Epoch 67/100\n",
      "226/235 [===========================>..] - ETA: 0s - loss: 0.0864\n",
      "Epoch 67: val_loss did not improve from 0.08615\n",
      "235/235 [==============================] - 1s 4ms/step - loss: 0.0864 - val_loss: 0.0864\n",
      "Epoch 68/100\n",
      "234/235 [============================>.] - ETA: 0s - loss: 0.0864\n",
      "Epoch 68: val_loss improved from 0.08615 to 0.08600, saving model to best_deep_autoencoder\n",
      "INFO:tensorflow:Assets written to: best_deep_autoencoder\\assets\n"
     ]
    },
    {
     "name": "stderr",
     "output_type": "stream",
     "text": [
      "INFO:tensorflow:Assets written to: best_deep_autoencoder\\assets\n"
     ]
    },
    {
     "name": "stdout",
     "output_type": "stream",
     "text": [
      "235/235 [==============================] - 1s 5ms/step - loss: 0.0864 - val_loss: 0.0860\n",
      "Epoch 69/100\n",
      "218/235 [==========================>...] - ETA: 0s - loss: 0.0863\n",
      "Epoch 69: val_loss improved from 0.08600 to 0.08593, saving model to best_deep_autoencoder\n",
      "INFO:tensorflow:Assets written to: best_deep_autoencoder\\assets\n"
     ]
    },
    {
     "name": "stderr",
     "output_type": "stream",
     "text": [
      "INFO:tensorflow:Assets written to: best_deep_autoencoder\\assets\n"
     ]
    },
    {
     "name": "stdout",
     "output_type": "stream",
     "text": [
      "235/235 [==============================] - 1s 5ms/step - loss: 0.0863 - val_loss: 0.0859\n",
      "Epoch 70/100\n",
      "226/235 [===========================>..] - ETA: 0s - loss: 0.0863\n",
      "Epoch 70: val_loss did not improve from 0.08593\n",
      "235/235 [==============================] - 1s 3ms/step - loss: 0.0863 - val_loss: 0.0860\n",
      "Epoch 71/100\n",
      "222/235 [===========================>..] - ETA: 0s - loss: 0.0863\n",
      "Epoch 71: val_loss did not improve from 0.08593\n",
      "235/235 [==============================] - 1s 3ms/step - loss: 0.0863 - val_loss: 0.0860\n",
      "Epoch 72/100\n",
      "230/235 [============================>.] - ETA: 0s - loss: 0.0862\n",
      "Epoch 72: val_loss improved from 0.08593 to 0.08577, saving model to best_deep_autoencoder\n",
      "INFO:tensorflow:Assets written to: best_deep_autoencoder\\assets\n"
     ]
    },
    {
     "name": "stderr",
     "output_type": "stream",
     "text": [
      "INFO:tensorflow:Assets written to: best_deep_autoencoder\\assets\n"
     ]
    },
    {
     "name": "stdout",
     "output_type": "stream",
     "text": [
      "235/235 [==============================] - 1s 5ms/step - loss: 0.0862 - val_loss: 0.0858\n",
      "Epoch 73/100\n",
      "232/235 [============================>.] - ETA: 0s - loss: 0.0861\n",
      "Epoch 73: val_loss improved from 0.08577 to 0.08576, saving model to best_deep_autoencoder\n",
      "INFO:tensorflow:Assets written to: best_deep_autoencoder\\assets\n"
     ]
    },
    {
     "name": "stderr",
     "output_type": "stream",
     "text": [
      "INFO:tensorflow:Assets written to: best_deep_autoencoder\\assets\n"
     ]
    },
    {
     "name": "stdout",
     "output_type": "stream",
     "text": [
      "235/235 [==============================] - 1s 5ms/step - loss: 0.0861 - val_loss: 0.0858\n",
      "Epoch 74/100\n",
      "228/235 [============================>.] - ETA: 0s - loss: 0.0861\n",
      "Epoch 74: val_loss improved from 0.08576 to 0.08569, saving model to best_deep_autoencoder\n",
      "INFO:tensorflow:Assets written to: best_deep_autoencoder\\assets\n"
     ]
    },
    {
     "name": "stderr",
     "output_type": "stream",
     "text": [
      "INFO:tensorflow:Assets written to: best_deep_autoencoder\\assets\n"
     ]
    },
    {
     "name": "stdout",
     "output_type": "stream",
     "text": [
      "235/235 [==============================] - 1s 5ms/step - loss: 0.0861 - val_loss: 0.0857\n",
      "Epoch 75/100\n",
      "231/235 [============================>.] - ETA: 0s - loss: 0.0861\n",
      "Epoch 75: val_loss improved from 0.08569 to 0.08567, saving model to best_deep_autoencoder\n",
      "INFO:tensorflow:Assets written to: best_deep_autoencoder\\assets\n"
     ]
    },
    {
     "name": "stderr",
     "output_type": "stream",
     "text": [
      "INFO:tensorflow:Assets written to: best_deep_autoencoder\\assets\n"
     ]
    },
    {
     "name": "stdout",
     "output_type": "stream",
     "text": [
      "235/235 [==============================] - 1s 5ms/step - loss: 0.0861 - val_loss: 0.0857\n",
      "Epoch 76/100\n",
      "232/235 [============================>.] - ETA: 0s - loss: 0.0860\n",
      "Epoch 76: val_loss improved from 0.08567 to 0.08566, saving model to best_deep_autoencoder\n",
      "INFO:tensorflow:Assets written to: best_deep_autoencoder\\assets\n"
     ]
    },
    {
     "name": "stderr",
     "output_type": "stream",
     "text": [
      "INFO:tensorflow:Assets written to: best_deep_autoencoder\\assets\n"
     ]
    },
    {
     "name": "stdout",
     "output_type": "stream",
     "text": [
      "235/235 [==============================] - 1s 5ms/step - loss: 0.0860 - val_loss: 0.0857\n",
      "Epoch 77/100\n",
      "226/235 [===========================>..] - ETA: 0s - loss: 0.0859\n",
      "Epoch 77: val_loss improved from 0.08566 to 0.08564, saving model to best_deep_autoencoder\n",
      "INFO:tensorflow:Assets written to: best_deep_autoencoder\\assets\n"
     ]
    },
    {
     "name": "stderr",
     "output_type": "stream",
     "text": [
      "INFO:tensorflow:Assets written to: best_deep_autoencoder\\assets\n"
     ]
    },
    {
     "name": "stdout",
     "output_type": "stream",
     "text": [
      "235/235 [==============================] - 1s 5ms/step - loss: 0.0859 - val_loss: 0.0856\n",
      "Epoch 78/100\n",
      "229/235 [============================>.] - ETA: 0s - loss: 0.0859\n",
      "Epoch 78: val_loss did not improve from 0.08564\n",
      "235/235 [==============================] - 1s 3ms/step - loss: 0.0859 - val_loss: 0.0860\n",
      "Epoch 79/100\n",
      "218/235 [==========================>...] - ETA: 0s - loss: 0.0859\n",
      "Epoch 79: val_loss improved from 0.08564 to 0.08549, saving model to best_deep_autoencoder\n",
      "INFO:tensorflow:Assets written to: best_deep_autoencoder\\assets\n"
     ]
    },
    {
     "name": "stderr",
     "output_type": "stream",
     "text": [
      "INFO:tensorflow:Assets written to: best_deep_autoencoder\\assets\n"
     ]
    },
    {
     "name": "stdout",
     "output_type": "stream",
     "text": [
      "235/235 [==============================] - 1s 5ms/step - loss: 0.0859 - val_loss: 0.0855\n",
      "Epoch 80/100\n",
      "227/235 [===========================>..] - ETA: 0s - loss: 0.0858\n",
      "Epoch 80: val_loss improved from 0.08549 to 0.08537, saving model to best_deep_autoencoder\n",
      "INFO:tensorflow:Assets written to: best_deep_autoencoder\\assets\n"
     ]
    },
    {
     "name": "stderr",
     "output_type": "stream",
     "text": [
      "INFO:tensorflow:Assets written to: best_deep_autoencoder\\assets\n"
     ]
    },
    {
     "name": "stdout",
     "output_type": "stream",
     "text": [
      "235/235 [==============================] - 1s 4ms/step - loss: 0.0858 - val_loss: 0.0854\n",
      "Epoch 81/100\n",
      "229/235 [============================>.] - ETA: 0s - loss: 0.0858\n",
      "Epoch 81: val_loss did not improve from 0.08537\n",
      "235/235 [==============================] - 1s 3ms/step - loss: 0.0858 - val_loss: 0.0858\n",
      "Epoch 82/100\n",
      "229/235 [============================>.] - ETA: 0s - loss: 0.0858\n",
      "Epoch 82: val_loss did not improve from 0.08537\n",
      "235/235 [==============================] - 1s 3ms/step - loss: 0.0858 - val_loss: 0.0854\n",
      "Epoch 83/100\n",
      "230/235 [============================>.] - ETA: 0s - loss: 0.0857\n",
      "Epoch 83: val_loss did not improve from 0.08537\n",
      "235/235 [==============================] - 1s 3ms/step - loss: 0.0857 - val_loss: 0.0858\n",
      "Epoch 84/100\n",
      "229/235 [============================>.] - ETA: 0s - loss: 0.0857\n",
      "Epoch 84: val_loss did not improve from 0.08537\n",
      "235/235 [==============================] - 1s 3ms/step - loss: 0.0857 - val_loss: 0.0859\n",
      "Epoch 85/100\n",
      "234/235 [============================>.] - ETA: 0s - loss: 0.0857\n",
      "Epoch 85: val_loss improved from 0.08537 to 0.08531, saving model to best_deep_autoencoder\n",
      "INFO:tensorflow:Assets written to: best_deep_autoencoder\\assets\n"
     ]
    },
    {
     "name": "stderr",
     "output_type": "stream",
     "text": [
      "INFO:tensorflow:Assets written to: best_deep_autoencoder\\assets\n"
     ]
    },
    {
     "name": "stdout",
     "output_type": "stream",
     "text": [
      "235/235 [==============================] - 1s 4ms/step - loss: 0.0857 - val_loss: 0.0853\n",
      "Epoch 86/100\n",
      "233/235 [============================>.] - ETA: 0s - loss: 0.0856\n",
      "Epoch 86: val_loss did not improve from 0.08531\n",
      "235/235 [==============================] - 1s 3ms/step - loss: 0.0856 - val_loss: 0.0855\n",
      "Epoch 87/100\n",
      "225/235 [===========================>..] - ETA: 0s - loss: 0.0857\n",
      "Epoch 87: val_loss did not improve from 0.08531\n",
      "235/235 [==============================] - 1s 3ms/step - loss: 0.0857 - val_loss: 0.0855\n",
      "Epoch 88/100\n",
      "232/235 [============================>.] - ETA: 0s - loss: 0.0856\n",
      "Epoch 88: val_loss improved from 0.08531 to 0.08526, saving model to best_deep_autoencoder\n",
      "INFO:tensorflow:Assets written to: best_deep_autoencoder\\assets\n"
     ]
    },
    {
     "name": "stderr",
     "output_type": "stream",
     "text": [
      "INFO:tensorflow:Assets written to: best_deep_autoencoder\\assets\n"
     ]
    },
    {
     "name": "stdout",
     "output_type": "stream",
     "text": [
      "235/235 [==============================] - 1s 4ms/step - loss: 0.0856 - val_loss: 0.0853\n",
      "Epoch 89/100\n",
      "221/235 [===========================>..] - ETA: 0s - loss: 0.0856\n",
      "Epoch 89: val_loss did not improve from 0.08526\n",
      "235/235 [==============================] - 1s 3ms/step - loss: 0.0856 - val_loss: 0.0854\n",
      "Epoch 90/100\n",
      "221/235 [===========================>..] - ETA: 0s - loss: 0.0855\n",
      "Epoch 90: val_loss did not improve from 0.08526\n",
      "235/235 [==============================] - 1s 3ms/step - loss: 0.0855 - val_loss: 0.0855\n",
      "Epoch 91/100\n",
      "235/235 [==============================] - ETA: 0s - loss: 0.0855\n",
      "Epoch 91: val_loss did not improve from 0.08526\n",
      "235/235 [==============================] - 1s 3ms/step - loss: 0.0855 - val_loss: 0.0854\n",
      "Epoch 92/100\n",
      "226/235 [===========================>..] - ETA: 0s - loss: 0.0854\n",
      "Epoch 92: val_loss improved from 0.08526 to 0.08502, saving model to best_deep_autoencoder\n",
      "INFO:tensorflow:Assets written to: best_deep_autoencoder\\assets\n"
     ]
    },
    {
     "name": "stderr",
     "output_type": "stream",
     "text": [
      "INFO:tensorflow:Assets written to: best_deep_autoencoder\\assets\n"
     ]
    },
    {
     "name": "stdout",
     "output_type": "stream",
     "text": [
      "235/235 [==============================] - 1s 4ms/step - loss: 0.0855 - val_loss: 0.0850\n",
      "Epoch 93/100\n",
      "227/235 [===========================>..] - ETA: 0s - loss: 0.0854\n",
      "Epoch 93: val_loss did not improve from 0.08502\n",
      "235/235 [==============================] - 1s 3ms/step - loss: 0.0854 - val_loss: 0.0852\n",
      "Epoch 94/100\n",
      "229/235 [============================>.] - ETA: 0s - loss: 0.0854\n",
      "Epoch 94: val_loss did not improve from 0.08502\n",
      "235/235 [==============================] - 1s 3ms/step - loss: 0.0854 - val_loss: 0.0852\n",
      "Epoch 95/100\n",
      "228/235 [============================>.] - ETA: 0s - loss: 0.0854\n",
      "Epoch 95: val_loss did not improve from 0.08502\n",
      "235/235 [==============================] - 1s 3ms/step - loss: 0.0853 - val_loss: 0.0851\n",
      "Epoch 96/100\n",
      "224/235 [===========================>..] - ETA: 0s - loss: 0.0853\n",
      "Epoch 96: val_loss did not improve from 0.08502\n",
      "235/235 [==============================] - 1s 3ms/step - loss: 0.0853 - val_loss: 0.0852\n",
      "Epoch 97/100\n",
      "222/235 [===========================>..] - ETA: 0s - loss: 0.0854\n",
      "Epoch 97: val_loss did not improve from 0.08502\n",
      "235/235 [==============================] - 1s 3ms/step - loss: 0.0854 - val_loss: 0.0850\n",
      "Epoch 98/100\n",
      "222/235 [===========================>..] - ETA: 0s - loss: 0.0853\n",
      "Epoch 98: val_loss improved from 0.08502 to 0.08490, saving model to best_deep_autoencoder\n",
      "INFO:tensorflow:Assets written to: best_deep_autoencoder\\assets\n"
     ]
    },
    {
     "name": "stderr",
     "output_type": "stream",
     "text": [
      "INFO:tensorflow:Assets written to: best_deep_autoencoder\\assets\n"
     ]
    },
    {
     "name": "stdout",
     "output_type": "stream",
     "text": [
      "235/235 [==============================] - 1s 5ms/step - loss: 0.0853 - val_loss: 0.0849\n",
      "Epoch 99/100\n",
      "233/235 [============================>.] - ETA: 0s - loss: 0.0852\n",
      "Epoch 99: val_loss did not improve from 0.08490\n",
      "235/235 [==============================] - 1s 4ms/step - loss: 0.0852 - val_loss: 0.0851\n",
      "Epoch 100/100\n",
      "225/235 [===========================>..] - ETA: 0s - loss: 0.0852\n",
      "Epoch 100: val_loss did not improve from 0.08490\n",
      "235/235 [==============================] - 1s 4ms/step - loss: 0.0852 - val_loss: 0.0849\n"
     ]
    }
   ],
   "source": [
    "autoencoder = keras.Model(input_img, decoded)\n",
    "autoencoder.compile(optimizer='adam', loss='binary_crossentropy')\n",
    "\n",
    "checkpoint = ModelCheckpoint(\"best_deep_autoencoder\", monitor='val_loss', verbose=1, save_best_only=True, mode='min')\n",
    "\n",
    "history = autoencoder.fit(x_train, x_train,\n",
    "                epochs=100,\n",
    "                batch_size=256,\n",
    "                shuffle=True,\n",
    "                validation_data=(x_test, x_test),\n",
    "                callbacks=[checkpoint])"
   ]
  },
  {
   "cell_type": "code",
   "execution_count": 11,
   "metadata": {},
   "outputs": [],
   "source": [
    "# This model maps an input to its encoded representation\n",
    "encoder = keras.Model(input_img, encoded)"
   ]
  },
  {
   "cell_type": "code",
   "execution_count": 12,
   "metadata": {},
   "outputs": [
    {
     "data": {
      "image/png": "[encoded data removed]",
      "text/plain": [
       "<IPython.core.display.Image object>"
      ]
     },
     "execution_count": 12,
     "metadata": {},
     "output_type": "execute_result"
    }
   ],
   "source": [
    "# plot_model autoencoder\n",
    "\n",
    "from keras.utils import plot_model\n",
    "\n",
    "plot_model(autoencoder, to_file='Deep_Autoencoder/autoencoder.png',dpi=80, show_shapes=True)\n",
    "plot_model(encoder, to_file='Deep_Autoencoder/encoder.png',dpi=80, show_shapes=True)"
   ]
  },
  {
   "cell_type": "code",
   "execution_count": 9,
   "metadata": {},
   "outputs": [
    {
     "name": "stdout",
     "output_type": "stream",
     "text": [
      "313/313 [==============================] - 0s 660us/step\n"
     ]
    }
   ],
   "source": [
    "decoded_imgs = autoencoder.predict(x_test)"
   ]
  },
  {
   "cell_type": "code",
   "execution_count": 10,
   "metadata": {},
   "outputs": [
    {
     "data": {
      "image/png": "[encoded data removed]",
      "text/plain": [
       "<Figure size 2000x400 with 20 Axes>"
      ]
     },
     "metadata": {},
     "output_type": "display_data"
    }
   ],
   "source": [
    "# Use Matplotlib (don't ask)\n",
    "import matplotlib.pyplot as plt\n",
    "\n",
    "n = 10  # How many digits we will display\n",
    "plt.figure(figsize=(20, 4))\n",
    "for i in range(n):\n",
    "    # Display original\n",
    "    ax = plt.subplot(2, n, i + 1)\n",
    "    plt.imshow(x_test[i].reshape(28, 28))\n",
    "    plt.gray()\n",
    "    ax.get_xaxis().set_visible(False)\n",
    "    ax.get_yaxis().set_visible(False)\n",
    "\n",
    "    # Display reconstruction\n",
    "    ax = plt.subplot(2, n, i + 1 + n)\n",
    "    plt.imshow(decoded_imgs[i].reshape(28, 28))\n",
    "    plt.gray()\n",
    "    ax.get_xaxis().set_visible(False)\n",
    "    ax.get_yaxis().set_visible(False)\n",
    "plt.show()"
   ]
  }
 ],
 "metadata": {
  "kernelspec": {
   "display_name": "Python 3",
   "language": "python",
   "name": "python3"
  },
  "language_info": {
   "codemirror_mode": {
    "name": "ipython",
    "version": 3
   },
   "file_extension": ".py",
   "mimetype": "text/x-python",
   "name": "python",
   "nbconvert_exporter": "python",
   "pygments_lexer": "ipython3",
   "version": "3.11.9"
  }
 },
 "nbformat": 4,
 "nbformat_minor": 2
}
